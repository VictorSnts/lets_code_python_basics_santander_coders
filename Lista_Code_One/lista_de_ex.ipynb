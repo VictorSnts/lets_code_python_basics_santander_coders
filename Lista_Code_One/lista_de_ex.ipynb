{
 "cells": [
  {
   "cell_type": "markdown",
   "id": "456e6d6c",
   "metadata": {},
   "source": [
    "# Questão 1.\n",
    "Faça um programa que peça ao usuário um número e imprima todos os números de um até o número que o usuário informar.\n",
    "- Exemplo: \n",
    "    Se o usuário informar o número 5, seu programa deverá imprimir: 1 2 3 4 5."
   ]
  },
  {
   "cell_type": "code",
   "execution_count": null,
   "id": "a0565e00",
   "metadata": {},
   "outputs": [],
   "source": [
    "num = int(input(\"Informe um numero: \"))\n",
    "for i in range(num):\n",
    "    print(i + 1, end=\" \")"
   ]
  },
  {
   "cell_type": "markdown",
   "id": "b57a319c",
   "metadata": {},
   "source": [
    "# Questão 2.\n",
    "Crie um programa que leia um valor qualquer e apresente uma mensagem dizendo em qual dos seguintes intervalos ([0,25], (25,50], (50,75], (75,100]) este valor se encontra. Caso o valor não esteja em nenhum destes intervalos, deverá ser impressa a mensagem “Fora de intervalo”. Veja alguns exemplo abaixo:\n",
    "- Exemplo: \n",
    "\n",
    "\n",
    "    Entrada: 25.01 | Saída: (25,50]\n",
    "    Entrada: 25.00 | Saída: [0,25]\n",
    "    Entrada: 100.00 | Saída: (75,100]\n",
    "    Entrada: -25.02 | Saída: Fora de intervalo\n",
    "- Lembrando que o [ ou ] representa que o valor está contido no intervalo, enquanto o ( ou ) representa que o valor associado não está contido no intervalo. Em outras palavras, (75, 100] representa o intervalo que vai de maior que 75 (não incluindo o 75) até menor ou igual 100."
   ]
  },
  {
   "cell_type": "code",
   "execution_count": null,
   "id": "afbe88e5",
   "metadata": {},
   "outputs": [],
   "source": [
    "num = int(input(\"Informe um numero: \"))\n",
    "\n",
    "if 0 <= num <= 25:\n",
    "    print(\"[0,25]\")\n",
    "elif 25 < num <= 50:\n",
    "    print(\"(25,50]\")\n",
    "elif 50 < num <= 75:\n",
    "    print(\"(50,75]\")\n",
    "elif 75 < num <= 100:\n",
    "    print(\"(75,100]\")\n",
    "else:\n",
    "    print(\"Fora do intervalo\")"
   ]
  },
  {
   "cell_type": "markdown",
   "id": "524ac64c",
   "metadata": {},
   "source": [
    "# Questão 3.\n",
    "Crie uma função que recebe o valor do raio de um círculo como parâmetro e retorna o valor da área desse círculo. Lembrando que a área de círculo é dada pela equação: A = π r^2.\n",
    "\n",
    "- Dica: Para utilizar um valor mais preciso do pi (π), você pode importar a biblioteca math, e utilizar o math.pi."
   ]
  },
  {
   "cell_type": "code",
   "execution_count": null,
   "id": "e14ea8dd",
   "metadata": {},
   "outputs": [],
   "source": [
    "from math import pi\n",
    "# print(math.pi)\n",
    "\n",
    "def area_circulo(raio):\n",
    "    area = pi * (raio ** 2)\n",
    "    return area\n",
    "\n",
    "num = int(input(\"Informe o raio de um circulo: \"))\n",
    "\n",
    "print(area_circulo(num))\n"
   ]
  },
  {
   "cell_type": "markdown",
   "id": "7ed4ba18",
   "metadata": {},
   "source": [
    "# Questão 4.\n",
    "Faça um programa que peça 2 números inteiros e um número real, calcule e mostre: \n",
    "- a) o produto entre o dobro do primeiro e a metade do segundo.\n",
    "- b) a soma entre o triplo do primeiro e o terceiro.\n",
    "- c) o terceiro elevado ao cubo."
   ]
  },
  {
   "cell_type": "code",
   "execution_count": null,
   "id": "a3186d76",
   "metadata": {},
   "outputs": [],
   "source": [
    "def a(num):\n",
    "    # o produto entre \n",
    "    # o dobro do primeiro \n",
    "    # e a metade do segundo\n",
    "    n1 = num[0] * 2\n",
    "    n2 = num[1] * 0.5\n",
    "    produto = n1 * n2\n",
    "    return f\"O produto entre o dobro do primeiro e a metade do segundo é {produto}\"\n",
    "\n",
    "\n",
    "def b(num):\n",
    "    # a soma entre \n",
    "    #o triplo do primeiro \n",
    "    #e o terceiro.\n",
    "    n1 = num[0] * 3\n",
    "    n2 = num[2]\n",
    "    soma = n1 + n2\n",
    "    return f\"A soma entre o triplo do primeiro e o terceiro é {soma}\"\n",
    "\n",
    "\n",
    "def c(num):\n",
    "    #o terceiro elevado ao cubo.\n",
    "    n = num[2]\n",
    "    cubo = n ** 3\n",
    "    return f\"O terceiro elevado ao cubo é {cubo}\"\n",
    "\n",
    "\n",
    "num = []\n",
    "num.append(int(input(\"Informe um numero inteiro: \")))\n",
    "num.append(int(input(\"Informe outro numero inteiro: \")))\n",
    "num.append(float(input(\"Informe um numero real: \")))\n",
    "\n",
    "print(a(num))\n",
    "print(b(num))\n",
    "print(c(num))\n",
    "\n",
    "\n",
    "\n"
   ]
  },
  {
   "cell_type": "markdown",
   "id": "af45cf42",
   "metadata": {},
   "source": [
    "# Questão 5.\n",
    "Vamos fazer um programa para verificar quem é o assassino de um crime. \n",
    "Para descobrir o assassino, a polícia faz um pequeno questionário com 5 perguntas onde a resposta só pode ser\n",
    "sim ou não:\n",
    "\n",
    "\n",
    "    (a) Mora perto da vítima?\n",
    "    (b) Já trabalhou com a vítima?\n",
    "    (c) Telefonou para a vítima?\n",
    "    (d) Esteve no local do crime?\n",
    "    (e) Devia para a vítima?\n",
    "\n",
    "\n",
    "Cada resposta sim dá um ponto para o suspeito. A polícia considera que os suspeitos com 5 pontos são os assassinos, com 4 a 3 pontos são cúmplices e 2 pontos são apenas suspeitos, necessitando de outras investigações. Valores abaixo de 2 são liberados.\n",
    "\n",
    "\n",
    "No seu programa, você deve fazer essas perguntas e, de acordo com as respostas do usuário, você vai informar como a polícia o considera."
   ]
  },
  {
   "cell_type": "code",
   "execution_count": null,
   "id": "2a958588",
   "metadata": {},
   "outputs": [],
   "source": [
    "perguntas = [\n",
    "    \"Mora perto da vítima?\", \n",
    "    \"Já trabalhou com a vítima?\",\n",
    "    \"Telefonou para a vítima?\",\n",
    "    \"Esteve no local do crime\",\n",
    "    \"Devia para a vítima?\"\n",
    "]\n",
    "\n",
    "print(\"Responda as perguntas abaixo com 'sim' ou 'nao':\")\n",
    "respostas_sim = 0\n",
    "\n",
    "for i in range(len(perguntas)):\n",
    "    resposta = input(perguntas[i]).lower()\n",
    "    if resposta == \"sim\":\n",
    "        respostas_sim += 1\n",
    "\n",
    "if respostas_sim == 5:\n",
    "    print(\"A policia considera o suspeito como assasino.\")\n",
    "elif 3 <= respostas_sim <= 4 :\n",
    "    print(\"A policia considera o suspeito como cumplice.\")\n",
    "elif respostas_sim == 2 :\n",
    "    print(\"A policia considera apenas como suspeito.\")\n",
    "else:\n",
    "    print(\"A policia liberou o suspeito.\")\n",
    "\n",
    "    \n"
   ]
  },
  {
   "cell_type": "markdown",
   "id": "1ed95594",
   "metadata": {},
   "source": [
    "# Questão 6.\n",
    "Faça uma função que recebe uma lista de números e retorna a soma dos elementos dessa lista."
   ]
  },
  {
   "cell_type": "code",
   "execution_count": null,
   "id": "ec76f4c1",
   "metadata": {},
   "outputs": [],
   "source": [
    "def soma_numeros(numeros):\n",
    "    soma = 0\n",
    "    for i in range(len(numeros)):\n",
    "        soma += numeros[i]\n",
    "    return soma\n",
    "\n",
    "print(soma_numeros([1, 2, 3, 4, 5, 6, 7, 8, 9, 10]))"
   ]
  },
  {
   "cell_type": "markdown",
   "id": "2c1bdbc4",
   "metadata": {},
   "source": [
    "# Questão 7.\n",
    "Faça um programa que leia as coordenadas de 2 (dois) pontos em um plano cartesiano 2D: a coordenada x do primeiro ponto (x_1), a coordenada y do primeiro ponto (y_1), a coordenada x do segundo ponto (x_2) e a coordenada y do segundo ponto (y_2). Em seguida, calcule a distância euclidiana entre os pontos, utilizando a equação abaixo:\n",
    "\n",
    "d = sqrt(((xb - xa) ** 2) + ((yb - ya) ** 2))"
   ]
  },
  {
   "cell_type": "code",
   "execution_count": null,
   "id": "b6c9c0cc",
   "metadata": {},
   "outputs": [],
   "source": [
    "from math import sqrt\n",
    "\n",
    "xa = float(input(\"Informe a coordenada x do primeiro ponto (Xa): \"))\n",
    "ya = float(input(\"Informe a coordenada y do primeiro ponto (Ya): \"))\n",
    "xb = float(input(\"Informe a coordenada x do segundo ponto (Xb): \"))\n",
    "yb = float(input(\"Informe a coordenada x do segundo ponto (Yb): \"))\n",
    "\n",
    "d = sqrt(((xb - xa) ** 2) + ((yb - ya) ** 2))      \n",
    "print(f\"A distância euclidiana entre os pontos é {d}.\")"
   ]
  },
  {
   "cell_type": "markdown",
   "id": "15cfd6e1",
   "metadata": {},
   "source": [
    "# Questão 8.\n",
    "Calcule a soma de mil termos dos inversos dos fatoriais: 1/(1!) + 1/(2!) + 1/(3!) + 1/(4!) + ... Dica: Use três variáveis:\n",
    "\n",
    "- um contador;\n",
    "- uma variável para soma;\n",
    "- e uma variável para os termos.\n",
    "\n",
    "Lembre-se de que 4! = 4 * *3 ** 2 * *1, que também é igual a 4 ** 3!."
   ]
  },
  {
   "cell_type": "code",
   "execution_count": 2,
   "id": "0ef7fd03",
   "metadata": {},
   "outputs": [
    {
     "name": "stdout",
     "output_type": "stream",
     "text": [
      "1.7182818284590455\n"
     ]
    }
   ],
   "source": [
    "soma = 0\n",
    "termo = 1\n",
    "for i in range(1, 1001):\n",
    "    termo = termo / i\n",
    "    soma += termo\n",
    "\n",
    "print(soma)"
   ]
  },
  {
   "cell_type": "markdown",
   "id": "26bc82e6",
   "metadata": {},
   "source": [
    "# Questão 9.\n",
    "Crie (manualmente ou sorteando os números) uma lista de 10 números e imprima:\n",
    "1. uma lista com os 4 primeiros números;\n",
    "2. uma lista com os 5 últimos números;\n",
    "3. uma lista contendo apenas os elementos das posições pares;\n",
    "4. uma lista contendo apenas os elementos das posições ímpares;\n",
    "5. a lista inversa da lista sorteada (isto é, uma lista que começa com o último elemento da lista sorteada e termina com o primeiro);\n",
    "6. uma lista inversa dos 5 primeiros números;\n",
    "7. uma lista inversa dos 5 últimos números."
   ]
  },
  {
   "cell_type": "code",
   "execution_count": null,
   "id": "6757276b",
   "metadata": {},
   "outputs": [],
   "source": [
    "import random"
   ]
  },
  {
   "cell_type": "code",
   "execution_count": null,
   "id": "120377c9",
   "metadata": {},
   "outputs": [],
   "source": [
    "# Criando a lista\n",
    "lista = []\n",
    "for i in range(10):\n",
    "    lista.append(random.randint(0, 100))\n",
    "print(lista)"
   ]
  },
  {
   "cell_type": "code",
   "execution_count": null,
   "id": "4e3f93f2",
   "metadata": {},
   "outputs": [],
   "source": [
    "# uma lista com os 4 primeiros números;\n",
    "primeiros_4 = []\n",
    "for i in range(4):\n",
    "    primeiros_4.append(lista[i])\n",
    "print(primeiros_4)"
   ]
  },
  {
   "cell_type": "code",
   "execution_count": null,
   "id": "e264bda8",
   "metadata": {},
   "outputs": [],
   "source": [
    "# uma lista com os 5 últimos números;\n",
    "ultimos_5 = []\n",
    "for i in range(-5, 0):\n",
    "    ultimos_5.append(lista[i])\n",
    "print(ultimos_5)"
   ]
  },
  {
   "cell_type": "code",
   "execution_count": null,
   "id": "49e93891",
   "metadata": {},
   "outputs": [],
   "source": [
    "# uma lista contendo apenas os elementos das posições pares;\n",
    "pares = []\n",
    "for i in range(len(lista)):\n",
    "    if lista[i] % 2 == 0:\n",
    "        pares.append(lista[i])\n",
    "print(pares)"
   ]
  },
  {
   "cell_type": "code",
   "execution_count": null,
   "id": "941c4162",
   "metadata": {},
   "outputs": [],
   "source": [
    "# uma lista contendo apenas os elementos das posições ímpares;\n",
    "impares = []\n",
    "for i in range(len(lista)):\n",
    "    if lista[i] % 2 != 0:\n",
    "        impares.append(lista[i])\n",
    "print(impares)"
   ]
  },
  {
   "cell_type": "code",
   "execution_count": null,
   "id": "dc552b73",
   "metadata": {},
   "outputs": [],
   "source": [
    "#a lista inversa da lista sorteada (isto é, uma lista que começa com o último elemento da lista sorteada \n",
    "    #e termina com o primeiro);\n",
    "inversa = lista.copy()\n",
    "inversa.reverse()\n",
    "\n",
    "print(inversa)"
   ]
  },
  {
   "cell_type": "code",
   "execution_count": null,
   "id": "ea4f0252",
   "metadata": {},
   "outputs": [],
   "source": [
    "# uma lista inversa dos 5 primeiros números;\n",
    "primeiros_5 = []\n",
    "for i in range(5):\n",
    "    primeiros_5.append(lista[i])\n",
    "inversa_primeiros_5 = primeiros_5.copy()\n",
    "inversa_primeiros_5.reverse()\n",
    "print(inversa_primeiros_5)"
   ]
  },
  {
   "cell_type": "code",
   "execution_count": null,
   "id": "1d4c5a92",
   "metadata": {},
   "outputs": [],
   "source": [
    "# uma lista inversa dos 5 últimos números.\n",
    "ultimos_5 = []\n",
    "for i in range(-5, 0):\n",
    "    ultimos_5.append(lista[i])\n",
    "inversa_ultimos_5 = ultimos_5.copy()\n",
    "inversa_ultimos_5.reverse()\n",
    "print(inversa_ultimos_5)"
   ]
  },
  {
   "cell_type": "markdown",
   "id": "3bb77201",
   "metadata": {},
   "source": [
    "# Questão 10.\n",
    "Na música, uma nota tem um tom (sua frequência, resultando em quão grave ou agudo é o som) e uma duração (por quanto tempo a nota soa). Neste problema, estamos interessados apenas na duração das notas.\n",
    "\n",
    "Marcos está dando os primeiros passos para ser um compositor de jingles. Ele está tendo alguns problemas, mas ao menos ele está criando melodias agradáveis e ritmos atrativos. Um jingle é dividido em uma sequência de compassos, e um compasso é formado de uma série de notas.\n",
    "\n",
    "A duração de uma nota é indicada pela sua forma. Neste problema, iremos utilizar letras maiúsculas para indicar a duração de uma nota. A seguinte tabela lista todas as notas disponíveis:\n",
    "\n",
    "![Notas](imgs/notas.png)\n",
    "\n",
    "A duração de um compasso é a soma da duração de suas notas. Nos jingles de Marcos, cada compasso tem a mesma duração. Como Marcos é apenas um iniciante, seu famoso professor Johann Sebastian III o ensinou que a duração de um compasso deve ser sempre 1.\n",
    "\n",
    "Por exemplo, Marcos escreveu uma composição contendo cinco compassos, dentre os quais quatro possuem a duração correta e um está errado. No exemplo abaixo, cada compasso é delimitado com barras e cada nota é representada como na tabela acima.\n",
    "\n",
    "![Exemplo](imgs/exemplo.png)\n",
    "\n",
    "Marcos gosta de computadores assim como de música. Ele quer que você escreva um programa que determine, para cada uma de suas composições, quantos compassos possuem a duração correta e quais são os compassos com duração incorreta.\n",
    "\n",
    "![Exemplo Entrada Saida](imgs/exemplo_entrada_saida.png)\n",
    "\n",
    "\n",
    "\n"
   ]
  },
  {
   "cell_type": "code",
   "execution_count": null,
   "id": "c64e3248",
   "metadata": {},
   "outputs": [],
   "source": [
    "duracao_compasso = {\n",
    "    'identificadores': [\"W\", \"H\", \"Q\", \"E\", \"S\", \"T\", \"X\"], \n",
    "    'duracao': [1, 1/2, 1/4, 1/8, 1/16, 1/32, 1/64]\n",
    "}\n",
    "\n",
    "compassos = input(\"Escreva o compassos: \")\n",
    "\n",
    "lista_compassos = compassos.split(\"/\")\n",
    "nro_corretos = 0\n",
    "incorretos = []\n",
    "\n",
    "for compasso in range(len(lista_compassos)): # Itera sobre os compassos informados\n",
    "    \n",
    "    if lista_compassos != '':\n",
    "        duracao = 0\n",
    "        for id in range(len(lista_compassos[compasso])): # Itera sobre o compasso selecionado\n",
    "            for i in range(len(duracao_compasso[\"identificadores\"])): # itera sobre a lista de duracao dos compassos\n",
    "                if lista_compassos[compasso][id] == duracao_compasso[\"identificadores\"][i]:\n",
    "                    duracao += duracao_compasso[\"duracao\"][i]\n",
    "        \n",
    "        if duracao == 1:\n",
    "            nro_corretos += 1\n",
    "        else:\n",
    "            if lista_compassos[compasso] != '':\n",
    "                incorretos.append(lista_compassos[compasso])\n",
    "            \n",
    "print(f\"Qtd. de Corretos: {nro_corretos}\")\n",
    "if incorretos != []:\n",
    "    print(f\"Incorretos: {incorretos}\")"
   ]
  },
  {
   "cell_type": "code",
   "execution_count": null,
   "id": "bf7bc47f",
   "metadata": {},
   "outputs": [],
   "source": [
    "duracoes_notas = {\n",
    "    \"W\": 1,\n",
    "    \"H\": 1/2,\n",
    "    \"Q\": 1/4,\n",
    "    \"E\": 1/8,\n",
    "    \"S\": 1/16,\n",
    "    \"T\": 1/32,\n",
    "    \"X\": 1/64\n",
    "}\n",
    "\n",
    "# compassos = input(\"Escreva o compassos: \")\n",
    "composicao = \"/W/W/SQHES/\"\n",
    "# lista_compassos = composicao.split(\"/\")\n",
    "\n",
    "lista_compassos = composicao.replace('/', ' ').strip(' ').split(' ')\n",
    "\n",
    "# Removendo elementos vazios\n",
    "if lista_compassos[0] == '':\n",
    "    del(lista_compassos[0])\n",
    "if lista_compassos[-1] == '':\n",
    "    del(lista_compassos[-1])\n",
    "\n",
    "nro_corretos = 0\n",
    "incorretos = []\n",
    "\n",
    "for compasso in lista_compassos:\n",
    "    duracao = 0\n",
    "    for nota in compasso:\n",
    "        duracao += duracoes_notas[nota]\n",
    "    if duracao == 1:\n",
    "        nro_corretos += 1\n",
    "    else:\n",
    "        incorretos.append(compasso)\n",
    "\n",
    "print(f\"Qtd. de Corretos: {nro_corretos}\")\n",
    "if incorretos:\n",
    "    print(f\"Incorretos: {incorretos}\")\n",
    "\n",
    "\n"
   ]
  }
 ],
 "metadata": {
  "kernelspec": {
   "display_name": "Python 3 (ipykernel)",
   "language": "python",
   "name": "python3"
  },
  "language_info": {
   "codemirror_mode": {
    "name": "ipython",
    "version": 3
   },
   "file_extension": ".py",
   "mimetype": "text/x-python",
   "name": "python",
   "nbconvert_exporter": "python",
   "pygments_lexer": "ipython3",
   "version": "3.10.6"
  }
 },
 "nbformat": 4,
 "nbformat_minor": 5
}
