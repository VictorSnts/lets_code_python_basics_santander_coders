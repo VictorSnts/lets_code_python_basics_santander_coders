{
 "cells": [
  {
   "cell_type": "markdown",
   "id": "def277e8",
   "metadata": {},
   "source": [
    "# Exercícios Módulo 1"
   ]
  },
  {
   "cell_type": "markdown",
   "id": "6ee57cf3",
   "metadata": {},
   "source": [
    "### 1. Faça um programa que peça um valor monetário e diminua-o em 15%. Seu programa deve imprimir a mensagem “O novo valor é [valor]”."
   ]
  },
  {
   "cell_type": "code",
   "execution_count": 1,
   "id": "f117a5e8",
   "metadata": {},
   "outputs": [
    {
     "name": "stdout",
     "output_type": "stream",
     "text": [
      "Informe um valor monetário: R$100\n",
      "O novo valor é 85.0\n"
     ]
    }
   ],
   "source": [
    "valor = float(input(\"Informe um valor monetário: R$\"))\n",
    "\n",
    "valor_ajustado = valor * 0.85\n",
    "print(f\"O novo valor é {valor_ajustado}\")"
   ]
  },
  {
   "cell_type": "markdown",
   "id": "cb8755e5",
   "metadata": {},
   "source": [
    "### 2. Faça um programa que leia a validade das informações:\n",
    "\n",
    "\n",
    "        a. Idade: entre 0 e 150;\n",
    "        b. Salário: maior que 0;\n",
    "        c. Sexo: M, F ou Outro;\n",
    "\n",
    "    O programa deve imprimir uma mensagem de erro para cada informação\n",
    "    inválida."
   ]
  },
  {
   "cell_type": "code",
   "execution_count": 2,
   "id": "f6f0bc06",
   "metadata": {},
   "outputs": [
    {
     "name": "stdout",
     "output_type": "stream",
     "text": [
      "Informe um sexo (M, F ou Outro): M\n",
      "Sexo Masculino\n"
     ]
    }
   ],
   "source": [
    "def a ():\n",
    "    idade = int(input(\"Informe uma idade: \"))\n",
    "\n",
    "    if 0 <= idade <= 150:\n",
    "        print(\"Idade Valida\")\n",
    "    else: \n",
    "        print(\"Idade Invalida\")\n",
    "\n",
    "\n",
    "def b():\n",
    "    salario = float(input(\"Informe um salario: \"))\n",
    "\n",
    "    if 0 < salario:\n",
    "        print(\"Salario Valido\")\n",
    "    else: \n",
    "        print(\"Salario Invalido\") \n",
    "\n",
    "        \n",
    "def c():\n",
    "    sexo = input(\"Informe um sexo (M, F ou Outro): \").upper()\n",
    "\n",
    "    if sexo == \"M\":\n",
    "        print(\"Sexo Masculino\")\n",
    "    elif sexo == \"F\": \n",
    "        print(\"Sexo Feminino\")\n",
    "    elif sexo == \"OUTRO\":\n",
    "        print(\"Outro Sexo\")\n",
    "    else:\n",
    "        print(\"Sexo Invalido\")\n",
    "    \n",
    "c()"
   ]
  },
  {
   "cell_type": "markdown",
   "id": "ce8cbcf4",
   "metadata": {},
   "source": [
    "### 3. Vamos fazer um programa para verificar quem é o assassino de um crime.\n",
    "    Para descobrir o assassino, a polícia faz um pequeno questionário com 5 perguntas onde a resposta só pode ser sim ou não:\n",
    "\n",
    "        a. Mora perto da vítima?\n",
    "        b. Já trabalhou com a vítima?\n",
    "        c. Telefonou para a vítima?\n",
    "        d. Esteve no local do crime?\n",
    "        e. Devia para a vítima?\n",
    "\n",
    "    Cada resposta sim dá um ponto para o suspeito. A polícia considera que os suspeitos com 5 pontos são os assassinos, com 4 a 3 pontos são cúmplices e 2 pontos são apenas suspeitos, necessitando outras investigações. Valores iguais ou abaixo de 1 são liberados."
   ]
  },
  {
   "cell_type": "code",
   "execution_count": 3,
   "id": "d83ba39d",
   "metadata": {},
   "outputs": [
    {
     "name": "stdout",
     "output_type": "stream",
     "text": [
      "Responda as perguntas abaixo com 'sim' ou 'nao':\n",
      "Mora perto da vítima?nao\n",
      "Já trabalhou com a vítima?nao\n",
      "Telefonou para a vítima?nao\n",
      "Esteve no local do crimenao\n",
      "Devia para a vítima?nao\n",
      "A policia liberou o suspeito.\n"
     ]
    }
   ],
   "source": [
    "perguntas = [\n",
    "    \"Mora perto da vítima?\", \n",
    "    \"Já trabalhou com a vítima?\",\n",
    "    \"Telefonou para a vítima?\",\n",
    "    \"Esteve no local do crime\",\n",
    "    \"Devia para a vítima?\"\n",
    "]\n",
    "\n",
    "print(\"Responda as perguntas abaixo com 'sim' ou 'nao':\")\n",
    "respostas_sim = 0\n",
    "\n",
    "for i in range(len(perguntas)):\n",
    "    resposta = input(perguntas[i]).lower()\n",
    "    if resposta == \"sim\":\n",
    "        respostas_sim += 1\n",
    "\n",
    "if respostas_sim == 5:\n",
    "    print(\"A policia considera o suspeito como assasino.\")\n",
    "elif 3 <= respostas_sim <= 4 :\n",
    "    print(\"A policia considera o suspeito como cumplice.\")\n",
    "elif respostas_sim == 2 :\n",
    "    print(\"A policia considera apenas como suspeito.\")\n",
    "else:\n",
    "    print(\"A policia liberou o suspeito.\")"
   ]
  },
  {
   "cell_type": "markdown",
   "id": "d071fa66",
   "metadata": {},
   "source": [
    "### 4. Faça um programa que imprima a tabuada do 9 (de 9*1 a 9*10) usando loops."
   ]
  },
  {
   "cell_type": "code",
   "execution_count": 4,
   "id": "80240ab2",
   "metadata": {},
   "outputs": [
    {
     "name": "stdout",
     "output_type": "stream",
     "text": [
      "9 * 0 = 0\n",
      "9 * 1 = 9\n",
      "9 * 2 = 18\n",
      "9 * 3 = 27\n",
      "9 * 4 = 36\n",
      "9 * 5 = 45\n",
      "9 * 6 = 54\n",
      "9 * 7 = 63\n",
      "9 * 8 = 72\n",
      "9 * 9 = 81\n",
      "9 * 10 = 90\n"
     ]
    }
   ],
   "source": [
    "for i in range(11):\n",
    "    resultado = 9 * i\n",
    "    print(f\"9 * {i} = {resultado}\")"
   ]
  },
  {
   "cell_type": "markdown",
   "id": "e2418509",
   "metadata": {},
   "source": [
    "# Exercícios Módulo 2"
   ]
  },
  {
   "cell_type": "markdown",
   "id": "511e7d7a",
   "metadata": {},
   "source": [
    "### 1. Faça um programa que olhe todos os itens de uma lista e diga quantos deles são pares."
   ]
  },
  {
   "cell_type": "code",
   "execution_count": 5,
   "id": "b91d4696",
   "metadata": {},
   "outputs": [
    {
     "name": "stdout",
     "output_type": "stream",
     "text": [
      "[80, 83, 34, 35, 2, 25, 50, 85, 12, 7]\n",
      "Ha 5 itens pares na lista.\n"
     ]
    }
   ],
   "source": [
    "import random\n",
    "\n",
    "lista = []\n",
    "for i in range(10):\n",
    "    lista.append(random.randint(1, 100))\n",
    "\n",
    "cont_pares = 0\n",
    "for item in lista:\n",
    "    if item % 2 == 0:\n",
    "        cont_pares += 1\n",
    "\n",
    "print(lista)\n",
    "print(f\"Ha {cont_pares} itens pares na lista.\")"
   ]
  },
  {
   "cell_type": "markdown",
   "id": "84f17897",
   "metadata": {},
   "source": [
    "### 2. Faça um programa que peça para o usuário digitar uma palavra e imprima cada letra em uma linha."
   ]
  },
  {
   "cell_type": "code",
   "execution_count": 6,
   "id": "dea11281",
   "metadata": {},
   "outputs": [
    {
     "name": "stdout",
     "output_type": "stream",
     "text": [
      "Digite uma palavra: Victor\n",
      "V\n",
      "i\n",
      "c\n",
      "t\n",
      "o\n",
      "r\n"
     ]
    }
   ],
   "source": [
    "palavra = input(\"Digite uma palavra: \")\n",
    "\n",
    "for letra in palavra:\n",
    "    print(letra)\n",
    "\n"
   ]
  },
  {
   "cell_type": "markdown",
   "id": "af2960d8",
   "metadata": {},
   "source": [
    "### 3. Faça uma função que recebe duas listas e retorna a soma item a item dessas listas.\n",
    "    Exemplo: Se a função receber as listas [1,4,3] e [3,5,1], então a função deve\n",
    "    retornar [1+3, 4+5, 3+1] = [4, 9, 4]."
   ]
  },
  {
   "cell_type": "code",
   "execution_count": 7,
   "id": "949a3f05",
   "metadata": {},
   "outputs": [
    {
     "name": "stdout",
     "output_type": "stream",
     "text": [
      "Lista 1: [93, 19, 71]\n",
      "Lista 2: [82, 35, 76]\n",
      "Soma: [175, 54, 147]\n"
     ]
    }
   ],
   "source": [
    "import random\n",
    "\n",
    "lista_1 = []\n",
    "lista_2 = []\n",
    "soma = []\n",
    "\n",
    "for i in range(1, 7):\n",
    "    nro = random.randint(1, 100)\n",
    "    if i <= 3:\n",
    "        lista_1.append(nro)\n",
    "    else:\n",
    "        lista_2.append(nro)\n",
    "\n",
    "print(f\"Lista 1: {lista_1}\")\n",
    "print(f\"Lista 2: {lista_2}\")\n",
    "\n",
    "for index in range(3):\n",
    "    soma.append(lista_1[index] + lista_2[index])\n",
    "\n",
    "print(f\"Soma: {soma}\")\n"
   ]
  },
  {
   "cell_type": "markdown",
   "id": "59894e89",
   "metadata": {},
   "source": [
    "### 4. Crie um dicionário cujas chaves são os meses do ano e os valores são a duração (em dias) de cada mês."
   ]
  },
  {
   "cell_type": "code",
   "execution_count": 8,
   "id": "44064ffd",
   "metadata": {},
   "outputs": [
    {
     "data": {
      "text/plain": [
       "{'Janeiro': 31,\n",
       " 'Fevereiro': 28,\n",
       " 'Marco': 31,\n",
       " 'Abril': 30,\n",
       " 'Maio': 31,\n",
       " 'Junho': 30,\n",
       " 'Julho': 31,\n",
       " 'Agosto': 31,\n",
       " 'Setembro': 30,\n",
       " 'Outubro': 31,\n",
       " 'Novembro': 30,\n",
       " 'Dezembro': 31}"
      ]
     },
     "execution_count": 8,
     "metadata": {},
     "output_type": "execute_result"
    }
   ],
   "source": [
    "meses = {\n",
    "    \"Janeiro\": 31,\n",
    "    \"Fevereiro\": 28,\n",
    "    \"Marco\": 31,\n",
    "    \"Abril\": 30,\n",
    "    \"Maio\": 31,\n",
    "    \"Junho\": 30,\n",
    "    \"Julho\": 31,\n",
    "    \"Agosto\": 31,\n",
    "    \"Setembro\": 30,\n",
    "    \"Outubro\": 31,\n",
    "    \"Novembro\": 30,\n",
    "    \"Dezembro\": 31,\n",
    "}\n",
    "\n",
    "meses"
   ]
  },
  {
   "cell_type": "markdown",
   "id": "a7bceeec",
   "metadata": {},
   "source": [
    "### 5. Imprima as chaves seguidas dos seus valores para dicionário criado no exercício anterior."
   ]
  },
  {
   "cell_type": "code",
   "execution_count": 9,
   "id": "9ad8c587",
   "metadata": {},
   "outputs": [
    {
     "name": "stdout",
     "output_type": "stream",
     "text": [
      "Janeiro - 31\n",
      "Fevereiro - 28\n",
      "Marco - 31\n",
      "Abril - 30\n",
      "Maio - 31\n",
      "Junho - 30\n",
      "Julho - 31\n",
      "Agosto - 31\n",
      "Setembro - 30\n",
      "Outubro - 31\n",
      "Novembro - 30\n",
      "Dezembro - 31\n"
     ]
    }
   ],
   "source": [
    "for mes in meses:\n",
    "    print(f\"{mes} - {meses[mes]}\")"
   ]
  },
  {
   "cell_type": "markdown",
   "id": "b5a2ebfe",
   "metadata": {},
   "source": [
    "# Exercícios Módulo 3\n",
    "\n",
    "## Para os exercícios 1 ao 3, você precisará do arquivo: alunos.csv. [Clique Aqui](https://www.google.com/url?sa=D&q=https://s3-sa-east-1.amazonaws.com/lcpi/0f8eacaa-25d5-462e-84f4-4937489552d4.csv&ust=1663087440000000&usg=AOvVaw2va-oCePNJM0QzzMsIQMg0&hl=pt-BR) para baixá-lo (ao salvar, renomeie o arquivo)."
   ]
  },
  {
   "cell_type": "markdown",
   "id": "0e57430d",
   "metadata": {},
   "source": [
    "### 1 - Neste exercício você deve criar um programa que abra o arquivo \"alunos.csv\" e imprima o conteúdo do arquivo linha a linha.\n",
    "    Note que esse é o primeiro exercício de uma sequência, então o seu código\n",
    "    pode ser reaproveitado nos exercícios seguintes. Dito isso, a recomendação é\n",
    "    usar a biblioteca CSV para ler o arquivo mesmo que não seja realmente\n",
    "    necessário para esse primeiro item."
   ]
  },
  {
   "cell_type": "code",
   "execution_count": 54,
   "id": "87c28707",
   "metadata": {},
   "outputs": [
    {
     "name": "stdout",
     "output_type": "stream",
     "text": [
      "['RA', 'Nome', 'Frequencia', 'Prova_1', 'Prova_2', 'Prova_3', 'Prova_4']\n",
      "['110201', 'Antonio Carlos', '20', '6.5', '8.5', '7', '6']\n",
      "['110212', 'Ana Beatriz', '20', '7', '7', '7', '8']\n",
      "['110218', 'Carlos Vernes', '17', '7', '7', '7', '7']\n",
      "['110307', 'Francisco Cunha', '20', '9', '8.5', '8.5', '10']\n",
      "['110275', 'Sandra Rosa', '15', '6.5', '7.5', '7', '7']\n",
      "['110281', 'Juliana Arruda', '18', '7.5', '7', '7.5', '8']\n",
      "['110301', 'Joao Galo', '20', '5', '6.5', '7', '5']\n",
      "['110263', 'José Valente', '20', '10', '10', '10', '10']\n",
      "['110271', 'Maria Ferreira', '19', '9.5', '8', '7', '10']\n",
      "['110236', 'Adriana Tavares', '20', '8', '8', '8', '8']\n"
     ]
    }
   ],
   "source": [
    "import csv\n",
    "\n",
    "list_alunos = []\n",
    "\n",
    "with open(\"alunos.csv\", \"r\") as alunos:\n",
    "    leitor_alunos = csv.reader(alunos)\n",
    "\n",
    "    for registro in leitor_alunos:\n",
    "        print(registro)\n",
    "        list_alunos.append(registro)\n",
    "    \n"
   ]
  },
  {
   "cell_type": "markdown",
   "id": "ee08ce59",
   "metadata": {},
   "source": [
    "### 2. Para o segundo exercício, você deve criar um programa que realize uma cópia do arquivo \"alunos.csv\". Essa cópia deve ser um arquivo chamado \"alunos_copia.csv\".\n",
    "    Novamente, aqui você também não precisa utilizar a biblioteca CSV mas se usar, seu código pode ser reutilizado na próxima questão sem muitas modificações."
   ]
  },
  {
   "cell_type": "code",
   "execution_count": 55,
   "id": "55bc7215",
   "metadata": {},
   "outputs": [],
   "source": [
    "with open('alunos_copia.csv', 'w') as alunos_copia:\n",
    "    escritor = csv.writer(alunos_copia)\n",
    "    escritor.writerows(list_alunos)"
   ]
  },
  {
   "cell_type": "markdown",
   "id": "ef4cdd16",
   "metadata": {},
   "source": [
    "### 3 - Finalmente chegamos ao último exercício dessa sequência relacionada à manipulação de arquivos.\n",
    "    Neste exercício você deve criar um novo arquivo chamado \"alunos_media.csv\". Esse novo arquivo é uma cópia de \"alunos.csv\" porém com uma coluna a mais chamada \"Média\" que vai abrigar os valores das médias das provas de cada aluno da lista.\n",
    "\n",
    "    Se você utilizou a biblioteca CSV para realizar os dois primeiros exercícios, muito será reaproveitado aqui. A biblioteca CSV permite a interpretação decada linha como listas, que são fáceis de manipular."
   ]
  },
  {
   "cell_type": "code",
   "execution_count": 56,
   "id": "44561d77",
   "metadata": {},
   "outputs": [],
   "source": [
    "P1 = 3\n",
    "P2 = 4\n",
    "P3 = 5\n",
    "P4 = 6\n",
    "\n",
    "with open('alunos_media.csv', 'w') as alunos_media:\n",
    "    list_alunos[0].append(\"Media\")\n",
    "    for index in range(1, len(list_alunos)):\n",
    "        \n",
    "        media = (float(list_alunos[index][P1]) + \n",
    "                 float(list_alunos[index][P2]) + \n",
    "                 float(list_alunos[index][P3]) + \n",
    "                 float(list_alunos[index][P4])) / 4\n",
    "        list_alunos[index].append(str(media))\n",
    "    escritor = csv.writer(alunos_media)\n",
    "    escritor.writerows(list_alunos)"
   ]
  },
  {
   "cell_type": "code",
   "execution_count": 58,
   "id": "ff77ebcf",
   "metadata": {},
   "outputs": [
    {
     "name": "stdout",
     "output_type": "stream",
     "text": [
      "['RA', 'Nome', 'Frequencia', 'Prova_1', 'Prova_2', 'Prova_3', 'Prova_4', 'Media']\n",
      "['110201', 'Antonio Carlos', '20', '6.5', '8.5', '7', '6', '7.0']\n",
      "['110212', 'Ana Beatriz', '20', '7', '7', '7', '8', '7.25']\n",
      "['110218', 'Carlos Vernes', '17', '7', '7', '7', '7', '7.0']\n",
      "['110307', 'Francisco Cunha', '20', '9', '8.5', '8.5', '10', '9.0']\n",
      "['110275', 'Sandra Rosa', '15', '6.5', '7.5', '7', '7', '7.0']\n",
      "['110281', 'Juliana Arruda', '18', '7.5', '7', '7.5', '8', '7.5']\n",
      "['110301', 'Joao Galo', '20', '5', '6.5', '7', '5', '5.875']\n",
      "['110263', 'José Valente', '20', '10', '10', '10', '10', '10.0']\n",
      "['110271', 'Maria Ferreira', '19', '9.5', '8', '7', '10', '8.625']\n",
      "['110236', 'Adriana Tavares', '20', '8', '8', '8', '8', '8.0']\n"
     ]
    }
   ],
   "source": [
    "with open(\"alunos_media.csv\", \"r\") as asd:\n",
    "    asdasd = csv.reader(asd)\n",
    "\n",
    "    for registro in asdasd:\n",
    "        print(registro)\n"
   ]
  },
  {
   "cell_type": "markdown",
   "id": "890fa77f",
   "metadata": {},
   "source": [
    "### 4 - Você conhece Star Wars? Se trata, obviamente, da famosa saga espacial criada por George Lucas em 1977 e que deu origem a símbolos do cinema e da cultura pop com o imponente vilão Darth Vader ou o simpático robô R2-D2. A ideia desse exercício é justamente extrair informações do personagem Darth Vader através de uma API de Star Wars chamada SWAPI.\n",
    "\n",
    "    Utilize a URL \"https://swapi.dev/api/people/4/\" para fazer a requisição dos dados de Darth Vader e extraia as informações \"name\" (nome), \"height\" (altura), \"mass\" (massa) e \"birth_year\" (ano de nascimento) e imprima cada dado em uma linha.\n",
    "\n",
    "    Dica: caso não se lembre de como fazer isso, assista novamente a aula sobre API porque o exemplo da aula pode te ajudar."
   ]
  },
  {
   "cell_type": "code",
   "execution_count": 70,
   "id": "d5cf4092",
   "metadata": {},
   "outputs": [
    {
     "name": "stdout",
     "output_type": "stream",
     "text": [
      "name: Darth Vader\n",
      "height: 202\n",
      "mass: 136\n",
      "birth_year: 41.9BBY\n"
     ]
    }
   ],
   "source": [
    "import requests\n",
    "\n",
    "req = requests.request(\"GET\", \"https://swapi.dev/api/people/4/\")\n",
    "\n",
    "dados_brutos = req.json()\n",
    "dados = {}\n",
    "\n",
    "for info in dados_brutos:\n",
    "    if info in [\"name\", \"height\", \"mass\", \"birth_year\"]:\n",
    "         dados[info] = dados_brutos[info]\n",
    "\n",
    "for info in dados:\n",
    "    print(f\"{info}: {dados[info]}\")"
   ]
  },
  {
   "cell_type": "markdown",
   "id": "33b4b912",
   "metadata": {},
   "source": [
    "### 5 - Em 2019 surgiram os primeiros casos de COVID-19 que se alastrou pelo mundo resultando numa pandemia. A proposta deste exercício é utilizar uma API com informações de COVID-19 do mundo todo desde o início da proliferação e descobrir que dia o Brasil confirmou o primeiro caso de Coronavírus.\n",
    "\n",
    "Para fazer isso, utilize a URL \"https://api.covid19api.com/country/brazil\" em seu código. Ela retorna uma lista de dicionários, onde cada dicionário traz informações através das chaves:\n",
    "\n",
    "\"ID\", \"Country\", \"CountryCode\", \"Province\", \"City\", \"CityCode\",\"Lat\",\"Lon\",\"Confirmed\",\"Deaths\", \"Recovered\", \"Active\" e \"Date\".\n",
    "\n",
    "Utilize essas informações e retorne a data em que o Brasil confirmou o primeiro caso de COVID."
   ]
  },
  {
   "cell_type": "code",
   "execution_count": 97,
   "id": "67004503",
   "metadata": {},
   "outputs": [
    {
     "name": "stdout",
     "output_type": "stream",
     "text": [
      "O Brasil confirmou o primeiro caso de COVID em 26/02/2020.\n"
     ]
    }
   ],
   "source": [
    "import requests\n",
    "import datetime as dt\n",
    "\n",
    "req = requests.request(\"GET\", \"https://api.covid19api.com/country/brazil\")\n",
    "\n",
    "dados_brutos = req.json()\n",
    "dados = []\n",
    "\n",
    "\n",
    "for index in range(len(dados_brutos)):\n",
    "    registro = {}\n",
    "    for info in [\"Country\",\"Confirmed\",\"Deaths\", \"Recovered\", \"Date\"]:\n",
    "        registro[info] = dados_brutos[index][info]\n",
    "    dados.append(registro)\n",
    "\n",
    "for registro in range(len(dados)):\n",
    "    dados[registro][\"Date\"] = dados[registro][\"Date\"][:10]\n",
    "\n",
    "for registro in range(len(dados)):\n",
    "    dados[registro][\"Date\"] = dt.datetime.strptime(dados[registro][\"Date\"], \"%Y-%m-%d\")\n",
    "\n",
    "for registro in range(len(dados)):\n",
    "    if dados[registro][\"Confirmed\"] > 0:\n",
    "            primeiro_caso = dados[registro][\"Date\"]\n",
    "            break\n",
    "\n",
    "data = primeiro_caso.strftime('%d/%m/%Y')\n",
    "\n",
    "print(f\"O Brasil confirmou o primeiro caso de COVID em {data}.\")"
   ]
  },
  {
   "cell_type": "code",
   "execution_count": null,
   "id": "cd67f316",
   "metadata": {},
   "outputs": [],
   "source": []
  }
 ],
 "metadata": {
  "kernelspec": {
   "display_name": "Python 3 (ipykernel)",
   "language": "python",
   "name": "python3"
  },
  "language_info": {
   "codemirror_mode": {
    "name": "ipython",
    "version": 3
   },
   "file_extension": ".py",
   "mimetype": "text/x-python",
   "name": "python",
   "nbconvert_exporter": "python",
   "pygments_lexer": "ipython3",
   "version": "3.10.6"
  }
 },
 "nbformat": 4,
 "nbformat_minor": 5
}
