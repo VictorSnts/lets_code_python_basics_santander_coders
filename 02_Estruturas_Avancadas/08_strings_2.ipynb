{
 "cells": [
  {
   "cell_type": "code",
   "execution_count": 2,
   "id": "3457992f",
   "metadata": {},
   "outputs": [
    {
     "data": {
      "text/plain": [
       "'Oi Lucas'"
      ]
     },
     "execution_count": 2,
     "metadata": {},
     "output_type": "execute_result"
    }
   ],
   "source": [
    "# Concatenacao de string\n",
    "cumprimento = \"Oi \"\n",
    "nome = \"Lucas\"\n",
    "cumprimento + nome"
   ]
  },
  {
   "cell_type": "code",
   "execution_count": 5,
   "id": "fe990c0e",
   "metadata": {},
   "outputs": [
    {
     "data": {
      "text/plain": [
       "'LucasLucasLucasLucasLucas'"
      ]
     },
     "execution_count": 5,
     "metadata": {},
     "output_type": "execute_result"
    }
   ],
   "source": [
    "# Repetindo palavras na string\n",
    "nome_rep = nome * 5\n",
    "nome_rep"
   ]
  },
  {
   "cell_type": "code",
   "execution_count": 12,
   "id": "4f8afae8",
   "metadata": {},
   "outputs": [
    {
     "data": {
      "text/plain": [
       "'Victor tem 22 anos e tem 4 filhos.'"
      ]
     },
     "execution_count": 12,
     "metadata": {},
     "output_type": "execute_result"
    }
   ],
   "source": [
    "# Concatenacao de string com int 1\n",
    "nome = \"Victor\"\n",
    "idade = 22\n",
    "filhos = 4\n",
    "msg = nome +\" tem \" + str(idade) + \" anos e tem \" + str(filhos) + \" filhos.\"\n",
    "msg"
   ]
  },
  {
   "cell_type": "code",
   "execution_count": 14,
   "id": "20763302",
   "metadata": {},
   "outputs": [
    {
     "data": {
      "text/plain": [
       "'Victor tem 22 anos e tem 4 filhos.'"
      ]
     },
     "execution_count": 14,
     "metadata": {},
     "output_type": "execute_result"
    }
   ],
   "source": [
    "# Concatenacao de string com int 2\n",
    "msg = \"{} tem {} anos e tem {} filhos.\".format(nome, idade, filhos)\n",
    "msg"
   ]
  },
  {
   "cell_type": "code",
   "execution_count": 16,
   "id": "7a78bffe",
   "metadata": {},
   "outputs": [
    {
     "data": {
      "text/plain": [
       "'Victor tem 22 anos e tem 4 filhos.'"
      ]
     },
     "execution_count": 16,
     "metadata": {},
     "output_type": "execute_result"
    }
   ],
   "source": [
    "# Concatenacao de string com int 2\n",
    "\n",
    "msg = f\"{nome} tem {idade} anos e tem {filhos} filhos.\"\n",
    "msg"
   ]
  }
 ],
 "metadata": {
  "kernelspec": {
   "display_name": "Python 3 (ipykernel)",
   "language": "python",
   "name": "python3"
  },
  "language_info": {
   "codemirror_mode": {
    "name": "ipython",
    "version": 3
   },
   "file_extension": ".py",
   "mimetype": "text/x-python",
   "name": "python",
   "nbconvert_exporter": "python",
   "pygments_lexer": "ipython3",
   "version": "3.10.6"
  }
 },
 "nbformat": 4,
 "nbformat_minor": 5
}
