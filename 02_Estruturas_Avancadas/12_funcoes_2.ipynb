{
 "cells": [
  {
   "cell_type": "code",
   "execution_count": 1,
   "id": "fbd71054",
   "metadata": {},
   "outputs": [],
   "source": [
    "def media(*args):\n",
    "    print(args, type(args))"
   ]
  },
  {
   "cell_type": "code",
   "execution_count": 2,
   "id": "50431aa7",
   "metadata": {},
   "outputs": [
    {
     "name": "stdout",
     "output_type": "stream",
     "text": [
      "(1, 212, 123) <class 'tuple'>\n"
     ]
    }
   ],
   "source": [
    "media(1,212,123)"
   ]
  },
  {
   "cell_type": "code",
   "execution_count": 3,
   "id": "00c58cb9",
   "metadata": {},
   "outputs": [],
   "source": [
    "def media(*args):\n",
    "    soma = sum(args)\n",
    "    media = soma / len(args)\n",
    "    return media"
   ]
  },
  {
   "cell_type": "code",
   "execution_count": 5,
   "id": "4d927cd4",
   "metadata": {},
   "outputs": [
    {
     "data": {
      "text/plain": [
       "8.333333333333334"
      ]
     },
     "execution_count": 5,
     "metadata": {},
     "output_type": "execute_result"
    }
   ],
   "source": [
    "media(9, 7, 9)"
   ]
  },
  {
   "cell_type": "code",
   "execution_count": 6,
   "id": "c1b4cd8e",
   "metadata": {},
   "outputs": [],
   "source": [
    "def media(*args, extra):\n",
    "    soma = sum(args)\n",
    "    media = soma / len(args)\n",
    "    return media + extra"
   ]
  },
  {
   "cell_type": "code",
   "execution_count": 8,
   "id": "501cb074",
   "metadata": {},
   "outputs": [
    {
     "data": {
      "text/plain": [
       "9.666666666666668"
      ]
     },
     "execution_count": 8,
     "metadata": {},
     "output_type": "execute_result"
    }
   ],
   "source": [
    "media(8, 8, 7, extra=2)"
   ]
  },
  {
   "cell_type": "code",
   "execution_count": 11,
   "id": "732cd6dd",
   "metadata": {},
   "outputs": [],
   "source": [
    "def print_info(**kwargs):\n",
    "    print(kwargs, type(kwargs))"
   ]
  },
  {
   "cell_type": "code",
   "execution_count": 12,
   "id": "6657d659",
   "metadata": {},
   "outputs": [
    {
     "name": "stdout",
     "output_type": "stream",
     "text": [
      "{'nome': 'Victor', 'sobrenome': 'Santos'} <class 'dict'>\n"
     ]
    }
   ],
   "source": [
    "print_info(nome=\"Victor\", sobrenome=\"Santos\")"
   ]
  }
 ],
 "metadata": {
  "kernelspec": {
   "display_name": "Python 3 (ipykernel)",
   "language": "python",
   "name": "python3"
  },
  "language_info": {
   "codemirror_mode": {
    "name": "ipython",
    "version": 3
   },
   "file_extension": ".py",
   "mimetype": "text/x-python",
   "name": "python",
   "nbconvert_exporter": "python",
   "pygments_lexer": "ipython3",
   "version": "3.10.6"
  }
 },
 "nbformat": 4,
 "nbformat_minor": 5
}
