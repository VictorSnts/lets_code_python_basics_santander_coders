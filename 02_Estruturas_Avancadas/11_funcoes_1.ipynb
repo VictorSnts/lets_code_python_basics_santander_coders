{
 "cells": [
  {
   "cell_type": "code",
   "execution_count": 1,
   "id": "2f769fa2",
   "metadata": {},
   "outputs": [],
   "source": [
    "# Funcoes"
   ]
  },
  {
   "cell_type": "code",
   "execution_count": 2,
   "id": "d5c0076c",
   "metadata": {},
   "outputs": [
    {
     "name": "stdout",
     "output_type": "stream",
     "text": [
      "Olá, mundo!\n"
     ]
    }
   ],
   "source": [
    "def hello():\n",
    "    print(\"Olá, mundo!\")\n",
    "hello()"
   ]
  },
  {
   "cell_type": "code",
   "execution_count": 3,
   "id": "54401b99",
   "metadata": {},
   "outputs": [],
   "source": [
    "def media(n1, n2, n3):\n",
    "    soma = n1 + n2 + n3\n",
    "    media = soma / 3\n",
    "    return media"
   ]
  },
  {
   "cell_type": "code",
   "execution_count": 5,
   "id": "fe2da947",
   "metadata": {},
   "outputs": [
    {
     "name": "stdout",
     "output_type": "stream",
     "text": [
      "10.0\n"
     ]
    }
   ],
   "source": [
    "print(media(10, 10, 10))"
   ]
  },
  {
   "cell_type": "code",
   "execution_count": 6,
   "id": "eb0885d2",
   "metadata": {},
   "outputs": [
    {
     "name": "stdout",
     "output_type": "stream",
     "text": [
      "9.333333333333334\n"
     ]
    }
   ],
   "source": [
    "print(media(9, 10, 9))"
   ]
  },
  {
   "cell_type": "code",
   "execution_count": 8,
   "id": "ae7225f0",
   "metadata": {},
   "outputs": [
    {
     "name": "stdout",
     "output_type": "stream",
     "text": [
      "6.666666666666667\n"
     ]
    }
   ],
   "source": [
    "print(media(n1=9, n2=2, n3=9))"
   ]
  },
  {
   "cell_type": "code",
   "execution_count": 9,
   "id": "ca6deb44",
   "metadata": {},
   "outputs": [
    {
     "name": "stdout",
     "output_type": "stream",
     "text": [
      "Olá, mundo!\n"
     ]
    }
   ],
   "source": [
    "print(\"Olá,\", end=\" \")\n",
    "print(\"mundo!\")"
   ]
  },
  {
   "cell_type": "code",
   "execution_count": 10,
   "id": "c3631b22",
   "metadata": {},
   "outputs": [],
   "source": [
    "def media(n1=0, n2=0, n3=0):\n",
    "    soma = n1 + n2 + n3\n",
    "    media = soma / 3\n",
    "    return media"
   ]
  },
  {
   "cell_type": "code",
   "execution_count": 11,
   "id": "1a536278",
   "metadata": {},
   "outputs": [
    {
     "name": "stdout",
     "output_type": "stream",
     "text": [
      "3.0\n"
     ]
    }
   ],
   "source": [
    "print(media(n1=9))"
   ]
  }
 ],
 "metadata": {
  "kernelspec": {
   "display_name": "Python 3 (ipykernel)",
   "language": "python",
   "name": "python3"
  },
  "language_info": {
   "codemirror_mode": {
    "name": "ipython",
    "version": 3
   },
   "file_extension": ".py",
   "mimetype": "text/x-python",
   "name": "python",
   "nbconvert_exporter": "python",
   "pygments_lexer": "ipython3",
   "version": "3.10.6"
  }
 },
 "nbformat": 4,
 "nbformat_minor": 5
}
