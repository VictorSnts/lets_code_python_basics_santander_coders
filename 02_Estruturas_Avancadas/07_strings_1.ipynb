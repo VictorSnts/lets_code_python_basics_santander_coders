{
 "cells": [
  {
   "cell_type": "code",
   "execution_count": 2,
   "id": "bbad74d7",
   "metadata": {},
   "outputs": [
    {
     "data": {
      "text/plain": [
       "'Google'"
      ]
     },
     "execution_count": 2,
     "metadata": {},
     "output_type": "execute_result"
    }
   ],
   "source": [
    "empresa = \"Google\"\n",
    "empresa"
   ]
  },
  {
   "cell_type": "code",
   "execution_count": 3,
   "id": "d84ebed8",
   "metadata": {},
   "outputs": [
    {
     "data": {
      "text/plain": [
       "'Existe uma empresa chamada \"Google\"'"
      ]
     },
     "execution_count": 3,
     "metadata": {},
     "output_type": "execute_result"
    }
   ],
   "source": [
    "frase = \"Existe uma empresa chamada \\\"Google\\\"\"\n",
    "frase"
   ]
  },
  {
   "cell_type": "code",
   "execution_count": 4,
   "id": "864ef159",
   "metadata": {},
   "outputs": [
    {
     "data": {
      "text/plain": [
       "'G'"
      ]
     },
     "execution_count": 4,
     "metadata": {},
     "output_type": "execute_result"
    }
   ],
   "source": [
    "empresa[0]"
   ]
  },
  {
   "cell_type": "code",
   "execution_count": 5,
   "id": "7343ee01",
   "metadata": {},
   "outputs": [
    {
     "data": {
      "text/plain": [
       "'ogle'"
      ]
     },
     "execution_count": 5,
     "metadata": {},
     "output_type": "execute_result"
    }
   ],
   "source": [
    "empresa[2:]"
   ]
  },
  {
   "cell_type": "code",
   "execution_count": 7,
   "id": "acabaed3",
   "metadata": {},
   "outputs": [
    {
     "data": {
      "text/plain": [
       "['SP', 'RS', 'RJ', 'MG', 'BA', 'SC', 'CE', 'DF']"
      ]
     },
     "execution_count": 7,
     "metadata": {},
     "output_type": "execute_result"
    }
   ],
   "source": [
    "# Fatiando strings\n",
    "estados = \"SP, RS, RJ, MG, BA, SC, CE, DF\"\n",
    "lista_estados = estados.split(\", \")\n",
    "lista_estados"
   ]
  },
  {
   "cell_type": "code",
   "execution_count": 12,
   "id": "8052e2b9",
   "metadata": {},
   "outputs": [
    {
     "data": {
      "text/plain": [
       "'victor santos'"
      ]
     },
     "execution_count": 12,
     "metadata": {},
     "output_type": "execute_result"
    }
   ],
   "source": [
    "# Limpando espacos antes e depois da string\n",
    "nome = \"   victor santos  \"\n",
    "nome = nome.strip()\n",
    "nome"
   ]
  },
  {
   "cell_type": "code",
   "execution_count": 17,
   "id": "8697a811",
   "metadata": {},
   "outputs": [
    {
     "name": "stdout",
     "output_type": "stream",
     "text": [
      "Victor Santos\n",
      "Victor santos\n",
      "victor santos\n",
      "VICTOR SANTOS\n"
     ]
    }
   ],
   "source": [
    "# Mudando os estilos de caixa da string\n",
    "print(nome.title()) # Primeiras letras das palavras maiusculas\n",
    "print(nome.capitalize()) # Somanete a primeira letra da string maiuscula\n",
    "print(nome.lower()) # String completa minuscula\n",
    "print(nome.upper()) # String completa maiuscula"
   ]
  },
  {
   "cell_type": "code",
   "execution_count": 20,
   "id": "fd9032fe",
   "metadata": {},
   "outputs": [
    {
     "name": "stdout",
     "output_type": "stream",
     "text": [
      "False\n",
      "True\n"
     ]
    }
   ],
   "source": [
    "# Chegando que um valor esta contido na string\n",
    "msg = \"Voce viu o que o Lucas fez ontem?\"\n",
    "busca1 = \"Victor\"\n",
    "busca2 = \"Lucas\"\n",
    "print(busca in msg)\n",
    "print(busca2 in msg)"
   ]
  }
 ],
 "metadata": {
  "kernelspec": {
   "display_name": "Python 3 (ipykernel)",
   "language": "python",
   "name": "python3"
  },
  "language_info": {
   "codemirror_mode": {
    "name": "ipython",
    "version": 3
   },
   "file_extension": ".py",
   "mimetype": "text/x-python",
   "name": "python",
   "nbconvert_exporter": "python",
   "pygments_lexer": "ipython3",
   "version": "3.10.6"
  }
 },
 "nbformat": 4,
 "nbformat_minor": 5
}
