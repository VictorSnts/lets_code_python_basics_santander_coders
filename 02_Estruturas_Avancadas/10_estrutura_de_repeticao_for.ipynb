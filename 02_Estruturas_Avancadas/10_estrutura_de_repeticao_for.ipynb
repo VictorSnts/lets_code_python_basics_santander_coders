{
 "cells": [
  {
   "cell_type": "code",
   "execution_count": 14,
   "id": "5ef1f0e4",
   "metadata": {},
   "outputs": [],
   "source": [
    "cidades = [\"Sao Paulo\", \"Londres\", \"Toquio\", \"Pais\"]"
   ]
  },
  {
   "cell_type": "code",
   "execution_count": 2,
   "id": "00362b49",
   "metadata": {},
   "outputs": [
    {
     "name": "stdout",
     "output_type": "stream",
     "text": [
      "Sao Paulo\n",
      "Londres\n",
      "Toquio\n",
      "Pais\n"
     ]
    }
   ],
   "source": [
    "for cidade in cidades:\n",
    "    print(cidade)"
   ]
  },
  {
   "cell_type": "code",
   "execution_count": 8,
   "id": "e5806d49",
   "metadata": {},
   "outputs": [],
   "source": [
    "dados_cidade = {\n",
    "    'nome': \"São Paulo\",\n",
    "    'estado': \"SP\",\n",
    "    'area_km2': 1521,\n",
    "    'populacao_mi': 12.18,\n",
    "}"
   ]
  },
  {
   "cell_type": "code",
   "execution_count": 12,
   "id": "3f619921",
   "metadata": {},
   "outputs": [
    {
     "name": "stdout",
     "output_type": "stream",
     "text": [
      "nome: São Paulo\n",
      "estado: SP\n",
      "area_km2: 1521\n",
      "populacao_mi: 12.18\n"
     ]
    }
   ],
   "source": [
    "for dado in dados_cidade:\n",
    "    print(f\"{dado}: {dados_cidade[dado]}\")"
   ]
  },
  {
   "cell_type": "code",
   "execution_count": 16,
   "id": "54536847",
   "metadata": {},
   "outputs": [
    {
     "name": "stdout",
     "output_type": "stream",
     "text": [
      "Sao Paulo\n",
      "Londres\n",
      "Toquio\n",
      "Pais\n"
     ]
    }
   ],
   "source": [
    "for posicao in range(len(cidades)):\n",
    "    print(cidades[posicao])"
   ]
  },
  {
   "cell_type": "code",
   "execution_count": 17,
   "id": "2895f793",
   "metadata": {},
   "outputs": [
    {
     "name": "stdout",
     "output_type": "stream",
     "text": [
      "[0, 1, 2, 3, 4, 5, 6, 7, 8, 9]\n",
      "[2, 3, 4, 5, 6, 7, 8, 9]\n",
      "[2, 4, 6, 8]\n"
     ]
    }
   ],
   "source": [
    "# Funcionamento do Range\n",
    "print(list(range(10)))\n",
    "print(list(range(2, 10)))\n",
    "print(list(range(2, 10, 2)))"
   ]
  }
 ],
 "metadata": {
  "kernelspec": {
   "display_name": "Python 3 (ipykernel)",
   "language": "python",
   "name": "python3"
  },
  "language_info": {
   "codemirror_mode": {
    "name": "ipython",
    "version": 3
   },
   "file_extension": ".py",
   "mimetype": "text/x-python",
   "name": "python",
   "nbconvert_exporter": "python",
   "pygments_lexer": "ipython3",
   "version": "3.10.6"
  }
 },
 "nbformat": 4,
 "nbformat_minor": 5
}
