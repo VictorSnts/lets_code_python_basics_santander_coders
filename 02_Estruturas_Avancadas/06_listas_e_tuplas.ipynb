{
 "cells": [
  {
   "cell_type": "code",
   "execution_count": 1,
   "id": "aa60a6ee",
   "metadata": {},
   "outputs": [],
   "source": [
    "#Listas"
   ]
  },
  {
   "cell_type": "code",
   "execution_count": 10,
   "id": "8a63a197",
   "metadata": {},
   "outputs": [
    {
     "data": {
      "text/plain": [
       "['Brasil', 'Argentina', 'China', 'Canada', 'Japao']"
      ]
     },
     "execution_count": 10,
     "metadata": {},
     "output_type": "execute_result"
    }
   ],
   "source": [
    "paises = ['Brasil', 'Argentina', 'China', 'Canada', 'Japao'] # Declarando uma lista\n",
    "paises"
   ]
  },
  {
   "cell_type": "code",
   "execution_count": 4,
   "id": "ad8ed590",
   "metadata": {},
   "outputs": [
    {
     "data": {
      "text/plain": [
       "5"
      ]
     },
     "execution_count": 4,
     "metadata": {},
     "output_type": "execute_result"
    }
   ],
   "source": [
    "len(paises) # Tamanho da lista"
   ]
  },
  {
   "cell_type": "code",
   "execution_count": 5,
   "id": "4ebe2662",
   "metadata": {},
   "outputs": [
    {
     "data": {
      "text/plain": [
       "'Japao'"
      ]
     },
     "execution_count": 5,
     "metadata": {},
     "output_type": "execute_result"
    }
   ],
   "source": [
    "paises[4] # Acessando um item expecifico da lista (pelo indice)"
   ]
  },
  {
   "cell_type": "code",
   "execution_count": 7,
   "id": "24cab7e6",
   "metadata": {},
   "outputs": [
    {
     "data": {
      "text/plain": [
       "'China'"
      ]
     },
     "execution_count": 7,
     "metadata": {},
     "output_type": "execute_result"
    }
   ],
   "source": [
    "paises[-3] # Acessando um item da lista pelo indicie negativo (de tras pra frente)"
   ]
  },
  {
   "cell_type": "code",
   "execution_count": 15,
   "id": "a5a78e92",
   "metadata": {},
   "outputs": [
    {
     "data": {
      "text/plain": [
       "['Brasil', 'Argentina', 'China', 'Canada', 'Colombia']"
      ]
     },
     "execution_count": 15,
     "metadata": {},
     "output_type": "execute_result"
    }
   ],
   "source": [
    "paises[4] = 'Colombia' # Alterando valor de um item na lista\n",
    "paises"
   ]
  },
  {
   "cell_type": "code",
   "execution_count": 17,
   "id": "79fed586",
   "metadata": {},
   "outputs": [],
   "source": [
    "# Slice"
   ]
  },
  {
   "cell_type": "code",
   "execution_count": 19,
   "id": "a464a7ea",
   "metadata": {},
   "outputs": [
    {
     "data": {
      "text/plain": [
       "['Argentina', 'China']"
      ]
     },
     "execution_count": 19,
     "metadata": {},
     "output_type": "execute_result"
    }
   ],
   "source": [
    "paises[1:3] # retorna o item da posicao 1 ate 3 (o item de posicao 3 nao é incluido)"
   ]
  },
  {
   "cell_type": "code",
   "execution_count": 20,
   "id": "3c0b667e",
   "metadata": {},
   "outputs": [
    {
     "data": {
      "text/plain": [
       "['Argentina', 'China', 'Canada']"
      ]
     },
     "execution_count": 20,
     "metadata": {},
     "output_type": "execute_result"
    }
   ],
   "source": [
    "paises[1:-1] # retorna os itens da posicao 1 ate o ultimo elemento da lista (nao incluindo-o)"
   ]
  },
  {
   "cell_type": "code",
   "execution_count": 22,
   "id": "275df57f",
   "metadata": {},
   "outputs": [
    {
     "data": {
      "text/plain": [
       "['China', 'Canada', 'Colombia']"
      ]
     },
     "execution_count": 22,
     "metadata": {},
     "output_type": "execute_result"
    }
   ],
   "source": [
    "paises[2:] # Retorna os elementos a partir do indice 2"
   ]
  },
  {
   "cell_type": "code",
   "execution_count": 23,
   "id": "952795c0",
   "metadata": {},
   "outputs": [
    {
     "data": {
      "text/plain": [
       "['Brasil', 'Argentina', 'China']"
      ]
     },
     "execution_count": 23,
     "metadata": {},
     "output_type": "execute_result"
    }
   ],
   "source": [
    "paises[:3] # retorna os elementos ate o indice 3"
   ]
  },
  {
   "cell_type": "code",
   "execution_count": 25,
   "id": "f22579b8",
   "metadata": {},
   "outputs": [
    {
     "data": {
      "text/plain": [
       "['China', 'Colombia']"
      ]
     },
     "execution_count": 25,
     "metadata": {},
     "output_type": "execute_result"
    }
   ],
   "source": [
    "paises[2::2] # retorna a paertir do indice 2, em steps de 2 em 2"
   ]
  },
  {
   "cell_type": "code",
   "execution_count": 26,
   "id": "f904231d",
   "metadata": {},
   "outputs": [
    {
     "data": {
      "text/plain": [
       "['Colombia', 'Canada', 'China', 'Argentina', 'Brasil']"
      ]
     },
     "execution_count": 26,
     "metadata": {},
     "output_type": "execute_result"
    }
   ],
   "source": [
    "paises[::-1] # retorna os itens da lista de forma invertida"
   ]
  },
  {
   "cell_type": "code",
   "execution_count": 27,
   "id": "b6005bee",
   "metadata": {},
   "outputs": [],
   "source": [
    "# Operacoes com listas"
   ]
  },
  {
   "cell_type": "code",
   "execution_count": 33,
   "id": "4a5e4986",
   "metadata": {},
   "outputs": [
    {
     "data": {
      "text/plain": [
       "True"
      ]
     },
     "execution_count": 33,
     "metadata": {},
     "output_type": "execute_result"
    }
   ],
   "source": [
    "'Brasil' in paises # Verifica se Brasil esta na lista"
   ]
  },
  {
   "cell_type": "code",
   "execution_count": 34,
   "id": "567274b8",
   "metadata": {},
   "outputs": [
    {
     "data": {
      "text/plain": [
       "False"
      ]
     },
     "execution_count": 34,
     "metadata": {},
     "output_type": "execute_result"
    }
   ],
   "source": [
    "'Brasil' not in paises # Verifica se Brasil nao esta na lista"
   ]
  },
  {
   "cell_type": "code",
   "execution_count": 54,
   "id": "b3c01765",
   "metadata": {},
   "outputs": [],
   "source": [
    "capitais = []"
   ]
  },
  {
   "cell_type": "code",
   "execution_count": 55,
   "id": "1dde2c5b",
   "metadata": {},
   "outputs": [
    {
     "data": {
      "text/plain": [
       "['Brasilia', 'Buenos Aires', 'Berlin', 'Bogota']"
      ]
     },
     "execution_count": 55,
     "metadata": {},
     "output_type": "execute_result"
    }
   ],
   "source": [
    "capitais.append('Brasilia') # Adicionando elemento no final de uma lista\n",
    "capitais.append('Buenos Aires')\n",
    "capitais.append('Berlin')\n",
    "capitais.append('Bogota')\n",
    "capitais"
   ]
  },
  {
   "cell_type": "code",
   "execution_count": 56,
   "id": "da485a7f",
   "metadata": {},
   "outputs": [
    {
     "data": {
      "text/plain": [
       "['Brasilia', 'paris', 'Buenos Aires', 'Berlin', 'Bogota']"
      ]
     },
     "execution_count": 56,
     "metadata": {},
     "output_type": "execute_result"
    }
   ],
   "source": [
    "capitais.insert(1, 'paris') # Adicionando elementos em um indice especifico da lista\n",
    "capitais"
   ]
  },
  {
   "cell_type": "code",
   "execution_count": 57,
   "id": "a2ff8b26",
   "metadata": {},
   "outputs": [
    {
     "data": {
      "text/plain": [
       "['Brasilia', 'Buenos Aires', 'Berlin', 'Bogota']"
      ]
     },
     "execution_count": 57,
     "metadata": {},
     "output_type": "execute_result"
    }
   ],
   "source": [
    "capitais.remove('paris') # Removendo um elemento da lista a partir do valor\n",
    "capitais"
   ]
  },
  {
   "cell_type": "code",
   "execution_count": 58,
   "id": "b33f392d",
   "metadata": {},
   "outputs": [
    {
     "name": "stdout",
     "output_type": "stream",
     "text": [
      "Brasilia\n"
     ]
    },
    {
     "data": {
      "text/plain": [
       "['Buenos Aires', 'Berlin', 'Bogota']"
      ]
     },
     "execution_count": 58,
     "metadata": {},
     "output_type": "execute_result"
    }
   ],
   "source": [
    "removido = capitais.pop(0)\n",
    "print(removido)\n",
    "capitais"
   ]
  },
  {
   "cell_type": "code",
   "execution_count": 59,
   "id": "83ea2c26",
   "metadata": {},
   "outputs": [],
   "source": [
    "# Tupla\n",
    "    # Diferenca da lista: Nao é permitido a alteracao dos dados armazenados"
   ]
  },
  {
   "cell_type": "code",
   "execution_count": 61,
   "id": "41d60a5e",
   "metadata": {},
   "outputs": [
    {
     "data": {
      "text/plain": [
       "('Brasil', 'Argentina', 'China', 'Canada', 'Japao')"
      ]
     },
     "execution_count": 61,
     "metadata": {},
     "output_type": "execute_result"
    }
   ],
   "source": [
    "paises_tupla = ('Brasil', 'Argentina', 'China', 'Canada', 'Japao') # Declarando uma tupla\n",
    "paises_tupla"
   ]
  },
  {
   "cell_type": "code",
   "execution_count": 63,
   "id": "a0397d3b",
   "metadata": {},
   "outputs": [
    {
     "data": {
      "text/plain": [
       "('SP',)"
      ]
     },
     "execution_count": 63,
     "metadata": {},
     "output_type": "execute_result"
    }
   ],
   "source": [
    "estado_tupla = 'SP', # declarando uma tupla com um elemento\n",
    "estado_tupla"
   ]
  },
  {
   "cell_type": "code",
   "execution_count": 65,
   "id": "4b781432",
   "metadata": {},
   "outputs": [],
   "source": [
    "# Unpacking da tupla"
   ]
  },
  {
   "cell_type": "code",
   "execution_count": 67,
   "id": "51e5c7e8",
   "metadata": {},
   "outputs": [
    {
     "name": "stdout",
     "output_type": "stream",
     "text": [
      "Brasil Argentina China Canada Japao\n"
     ]
    }
   ],
   "source": [
    "#Atribuir os valores a variavies diferentes\n",
    "br, ar, ch, ca, jp = paises_tupla\n",
    "print(br, ar, ch, ca, jp)"
   ]
  },
  {
   "cell_type": "code",
   "execution_count": 70,
   "id": "7b3d0841",
   "metadata": {},
   "outputs": [
    {
     "name": "stdout",
     "output_type": "stream",
     "text": [
      "Brasil Argentina China Canada Japao\n"
     ]
    }
   ],
   "source": [
    "# Retornar os valores separadamente\n",
    "print(*paises_tupla)"
   ]
  }
 ],
 "metadata": {
  "kernelspec": {
   "display_name": "Python 3 (ipykernel)",
   "language": "python",
   "name": "python3"
  },
  "language_info": {
   "codemirror_mode": {
    "name": "ipython",
    "version": 3
   },
   "file_extension": ".py",
   "mimetype": "text/x-python",
   "name": "python",
   "nbconvert_exporter": "python",
   "pygments_lexer": "ipython3",
   "version": "3.10.6"
  }
 },
 "nbformat": 4,
 "nbformat_minor": 5
}
