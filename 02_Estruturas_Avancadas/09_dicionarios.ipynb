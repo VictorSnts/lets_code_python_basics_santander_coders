{
 "cells": [
  {
   "cell_type": "code",
   "execution_count": 21,
   "id": "b7ea52ff",
   "metadata": {},
   "outputs": [],
   "source": [
    "# Dicionario"
   ]
  },
  {
   "cell_type": "code",
   "execution_count": 22,
   "id": "2fc59694",
   "metadata": {},
   "outputs": [
    {
     "data": {
      "text/plain": [
       "{'nome': 'São Paulo', 'estado': 'SP', 'area_km2': 1521, 'populacao_mi': 12.18}"
      ]
     },
     "execution_count": 22,
     "metadata": {},
     "output_type": "execute_result"
    }
   ],
   "source": [
    "# Definindo um dicionario\n",
    "dados_cidade = {\n",
    "    'nome': \"São Paulo\",\n",
    "    'estado': \"SP\",\n",
    "    'area_km2': 1521,\n",
    "    'populacao_mi': 12.18,\n",
    "}\n",
    "dados_cidade"
   ]
  },
  {
   "cell_type": "code",
   "execution_count": 23,
   "id": "1bc28830",
   "metadata": {},
   "outputs": [
    {
     "data": {
      "text/plain": [
       "dict"
      ]
     },
     "execution_count": 23,
     "metadata": {},
     "output_type": "execute_result"
    }
   ],
   "source": [
    "type(dados_cidade) # Consultando o tipo"
   ]
  },
  {
   "cell_type": "code",
   "execution_count": 24,
   "id": "7fb30d24",
   "metadata": {},
   "outputs": [
    {
     "data": {
      "text/plain": [
       "{'nome': 'São Paulo',\n",
       " 'estado': 'SP',\n",
       " 'area_km2': 1521,\n",
       " 'populacao_mi': 12.18,\n",
       " 'pais': 'Brasil'}"
      ]
     },
     "execution_count": 24,
     "metadata": {},
     "output_type": "execute_result"
    }
   ],
   "source": [
    "dados_cidade['pais'] = \"Brasil\" # Incluindo elemento\n",
    "dados_cidade"
   ]
  },
  {
   "cell_type": "code",
   "execution_count": 25,
   "id": "e86983a9",
   "metadata": {},
   "outputs": [
    {
     "data": {
      "text/plain": [
       "'São Paulo'"
      ]
     },
     "execution_count": 25,
     "metadata": {},
     "output_type": "execute_result"
    }
   ],
   "source": [
    "dados_cidade['nome'] # Acessando valores"
   ]
  },
  {
   "cell_type": "code",
   "execution_count": 26,
   "id": "91a8c580",
   "metadata": {},
   "outputs": [
    {
     "data": {
      "text/plain": [
       "{'nome': 'São Paulo',\n",
       " 'estado': 'SP',\n",
       " 'area_km2': 500,\n",
       " 'populacao_mi': 12.18,\n",
       " 'pais': 'Brasil'}"
      ]
     },
     "execution_count": 26,
     "metadata": {},
     "output_type": "execute_result"
    }
   ],
   "source": [
    "dados_cidade['area_km2'] = 500 # Alterando valores\n",
    "dados_cidade"
   ]
  },
  {
   "cell_type": "code",
   "execution_count": 27,
   "id": "86ff1fcd",
   "metadata": {},
   "outputs": [],
   "source": [
    "dados_cidade2 = dados_cidade.copy() # Copiando um dicionario\n",
    "dados_cidade2['pais'] = \"Canada\""
   ]
  },
  {
   "cell_type": "code",
   "execution_count": 28,
   "id": "b0d4935c",
   "metadata": {},
   "outputs": [
    {
     "name": "stdout",
     "output_type": "stream",
     "text": [
      "{'nome': 'São Paulo', 'estado': 'SP', 'area_km2': 500, 'populacao_mi': 12.18, 'pais': 'Brasil'}\n",
      "{'nome': 'São Paulo', 'estado': 'SP', 'area_km2': 500, 'populacao_mi': 12.18, 'pais': 'Canada'}\n"
     ]
    }
   ],
   "source": [
    "print(dados_cidade)\n",
    "print(dados_cidade2)"
   ]
  },
  {
   "cell_type": "code",
   "execution_count": 29,
   "id": "5379777c",
   "metadata": {},
   "outputs": [
    {
     "data": {
      "text/plain": [
       "{'nome': 'São Paulo',\n",
       " 'estado': 'SP',\n",
       " 'area_km2': 500,\n",
       " 'populacao_mi': 13.12,\n",
       " 'pais': 'Brasil',\n",
       " 'fundacao': '25/01/1954'}"
      ]
     },
     "execution_count": 29,
     "metadata": {},
     "output_type": "execute_result"
    }
   ],
   "source": [
    "# Atualizando dicionario\n",
    "novos_dados = {\n",
    "    'populacao_mi': 13.12,\n",
    "    'fundacao': \"25/01/1954\"\n",
    "}\n",
    "dados_cidade.update(novos_dados)\n",
    "dados_cidade"
   ]
  },
  {
   "cell_type": "code",
   "execution_count": 31,
   "id": "b7a24030",
   "metadata": {},
   "outputs": [
    {
     "name": "stdout",
     "output_type": "stream",
     "text": [
      "São Paulo\n",
      "None\n"
     ]
    }
   ],
   "source": [
    "# Outra forma de acessar dados no dicionario\n",
    "print(dados_cidade.get('nome'))\n",
    "print(dados_cidade.get('prefeito')) # retorna None se chave nao existe"
   ]
  },
  {
   "cell_type": "code",
   "execution_count": 32,
   "id": "021849d7",
   "metadata": {},
   "outputs": [],
   "source": [
    "# Transformando o dicionario em listas"
   ]
  },
  {
   "cell_type": "code",
   "execution_count": 35,
   "id": "eba1387b",
   "metadata": {},
   "outputs": [
    {
     "data": {
      "text/plain": [
       "dict_keys(['nome', 'estado', 'area_km2', 'populacao_mi', 'pais', 'fundacao'])"
      ]
     },
     "execution_count": 35,
     "metadata": {},
     "output_type": "execute_result"
    }
   ],
   "source": [
    "    # Gerando Lista das chaves\n",
    "dados_cidade.keys()"
   ]
  },
  {
   "cell_type": "code",
   "execution_count": 37,
   "id": "ed20fec4",
   "metadata": {},
   "outputs": [
    {
     "data": {
      "text/plain": [
       "dict_values(['São Paulo', 'SP', 500, 13.12, 'Brasil', '25/01/1954'])"
      ]
     },
     "execution_count": 37,
     "metadata": {},
     "output_type": "execute_result"
    }
   ],
   "source": [
    "    # Gerando Lista das chaves\n",
    "dados_cidade.values()"
   ]
  },
  {
   "cell_type": "code",
   "execution_count": 38,
   "id": "203a25ca",
   "metadata": {},
   "outputs": [
    {
     "data": {
      "text/plain": [
       "dict_items([('nome', 'São Paulo'), ('estado', 'SP'), ('area_km2', 500), ('populacao_mi', 13.12), ('pais', 'Brasil'), ('fundacao', '25/01/1954')])"
      ]
     },
     "execution_count": 38,
     "metadata": {},
     "output_type": "execute_result"
    }
   ],
   "source": [
    "    # Gerando Lista de tuplas de chave e valor\n",
    "dados_cidade.items()"
   ]
  }
 ],
 "metadata": {
  "kernelspec": {
   "display_name": "Python 3 (ipykernel)",
   "language": "python",
   "name": "python3"
  },
  "language_info": {
   "codemirror_mode": {
    "name": "ipython",
    "version": 3
   },
   "file_extension": ".py",
   "mimetype": "text/x-python",
   "name": "python",
   "nbconvert_exporter": "python",
   "pygments_lexer": "ipython3",
   "version": "3.10.6"
  }
 },
 "nbformat": 4,
 "nbformat_minor": 5
}
