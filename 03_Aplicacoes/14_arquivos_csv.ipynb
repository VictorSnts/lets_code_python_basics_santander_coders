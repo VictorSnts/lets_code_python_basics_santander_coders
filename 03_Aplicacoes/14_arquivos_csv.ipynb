{
 "cells": [
  {
   "cell_type": "code",
   "execution_count": 1,
   "id": "d6897dda",
   "metadata": {},
   "outputs": [],
   "source": [
    "import csv"
   ]
  },
  {
   "cell_type": "code",
   "execution_count": 2,
   "id": "0c7e8ae0",
   "metadata": {},
   "outputs": [
    {
     "name": "stdout",
     "output_type": "stream",
     "text": [
      "['Argentina', '4890', '120', '167416', '3059']\n",
      "['Brazil', '23284', '614', '2442375', '87618']\n",
      "['Colombia', '16306', '508', '257101', '8777']\n",
      "['India', '44457', '637', '1480073', '33408']\n",
      "['Iran', '2434', '212', '293606', '15912']\n",
      "['Mexico', '4973', '342', '395489', '44022']\n",
      "['Peru', '13756', '575', '389717', '18418']\n",
      "['South Africa', '7096', '298', '452529', '7067']\n",
      "['US', '56336', '1076', '4290259', '148011']\n"
     ]
    }
   ],
   "source": [
    "# Lendo um arquivo csv\n",
    "with open(\"covid.csv\", 'r', encoding='utf-8') as csv_casos:\n",
    "    leitor = csv.reader(csv_casos)\n",
    "    next(leitor)\n",
    "    for linha in leitor:\n",
    "        if int(linha[2]) > 100:\n",
    "            print(linha)\n"
   ]
  },
  {
   "cell_type": "code",
   "execution_count": 3,
   "id": "54ed6d64",
   "metadata": {},
   "outputs": [],
   "source": [
    "with open('teste_csv.csv', 'w', encoding='utf-8', newline='') as arquivo_teste:\n",
    "    escritor = csv.writer(arquivo_teste)\n",
    "    escritor.writerow(['nome', 'sobrenome', 'email', 'genero'])\n",
    "    escritor.writerow(['Victor', 'Santos', 'victor@santos.com', 'M'])\n",
    "    escritor.writerow(['Lucas', 'Santos', 'lucas@santos.com', 'M'])"
   ]
  },
  {
   "cell_type": "code",
   "execution_count": 14,
   "id": "11ab7a96",
   "metadata": {},
   "outputs": [
    {
     "name": "stdout",
     "output_type": "stream",
     "text": [
      "nome,sobrenome,email,genero\n",
      "\n",
      "Victor,Santos,victor@santos.com,M\n",
      "\n",
      "Lucas,Santos,lucas@santos.com,M\n",
      "\n"
     ]
    }
   ],
   "source": [
    "with open(\"teste_csv.csv\", 'r', encoding='utf-8') as teste_csv:\n",
    "    for linha in teste_csv:\n",
    "        print(linha)\n",
    "\n"
   ]
  },
  {
   "cell_type": "code",
   "execution_count": 15,
   "id": "533ded5b",
   "metadata": {},
   "outputs": [
    {
     "name": "stdout",
     "output_type": "stream",
     "text": [
      "Digite '1' para cadastrar ou '2' para sair.1\n",
      "Informe o nome: 1\n",
      "Informe o sobrenome: 1\n",
      "Digite '1' para cadastrar ou '2' para sair.1\n",
      "Informe o nome: 1\n",
      "Informe o sobrenome: 1\n",
      "Digite '1' para cadastrar ou '2' para sair.1\n",
      "Informe o nome: 1\n",
      "Informe o sobrenome: 1\n",
      "Digite '1' para cadastrar ou '2' para sair.2\n",
      "nome,sobrenome\n",
      "\n",
      "1,1\n",
      "\n",
      "1,1\n",
      "\n",
      "1,1\n",
      "\n"
     ]
    }
   ],
   "source": [
    "# Exemplo Cadastro\n",
    "header = [\"nome\", \"sobrenome\"]\n",
    "dados = []\n",
    "\n",
    "opcao = int(input(\"Digite '1' para cadastrar ou '2' para sair.\"))\n",
    "\n",
    "while opcao != 2:\n",
    "    nome = input(\"Informe o nome: \", )\n",
    "    sobrenome = input(\"Informe o sobrenome: \")\n",
    "    dados.append([nome, sobrenome])\n",
    "    opcao = int(input(\"Digite '1' para cadastrar ou '2' para sair.\"))\n",
    "\n",
    "with open('cadastro.csv', 'w', encoding='utf-8') as cadastro:\n",
    "    escritor = csv.writer(cadastro)\n",
    "    escritor.writerow(header)\n",
    "    escritor.writerows(dados)\n",
    "\n",
    "with open(\"cadastro.csv\", 'r', encoding='utf-8') as teste_csv:\n",
    "    for linha in teste_csv:\n",
    "        print(linha)"
   ]
  },
  {
   "cell_type": "code",
   "execution_count": null,
   "id": "bf22ebf8",
   "metadata": {},
   "outputs": [],
   "source": []
  }
 ],
 "metadata": {
  "kernelspec": {
   "display_name": "Python 3 (ipykernel)",
   "language": "python",
   "name": "python3"
  },
  "language_info": {
   "codemirror_mode": {
    "name": "ipython",
    "version": 3
   },
   "file_extension": ".py",
   "mimetype": "text/x-python",
   "name": "python",
   "nbconvert_exporter": "python",
   "pygments_lexer": "ipython3",
   "version": "3.10.6"
  }
 },
 "nbformat": 4,
 "nbformat_minor": 5
}
