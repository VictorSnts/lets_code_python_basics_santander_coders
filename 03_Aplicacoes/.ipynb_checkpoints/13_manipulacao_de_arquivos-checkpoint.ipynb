{
 "cells": [
  {
   "cell_type": "code",
   "execution_count": 1,
   "id": "7a9964cd",
   "metadata": {},
   "outputs": [
    {
     "name": "stdout",
     "output_type": "stream",
     "text": [
      "I\n",
      "\n",
      "Do titulo.\n",
      "\n",
      "Uma noite destas, vindo da cidade para o Engenho Novo, encontrei no\n",
      "trem da Central um rapaz aqui do bairro, que eu conheço de vista e\n",
      "de chapéo. Comprimentou-me, sentou-se ao pé de mim, falou da lua e\n",
      "dos ministros, e acabou recitando-me versos. A viagem era curta, e os\n",
      "versos póde ser que não fossem inteiramente maus. Succedeu, porém, que\n",
      "como eu estava cançado, fechei os olhos tres ou quatro vezes; tanto\n",
      "bastou para que elle interrompesse a leitura e mettesse os versos no\n",
      "bolso.\n",
      "\n",
      "--Continue, disse eu accordando.\n",
      "\n",
      "--Já acabei, murmurou elle.\n",
      "\n",
      "--São muito bonitos.\n",
      "\n",
      "Vi-lhe fazer um gesto para tiral-os outra vez do bolso, mas não passou\n",
      "do gesto; estava amuado. No dia seguinte entrou a dizer de mim nomes\n",
      "feios, e acabou alcunhando-me _Dom Casmurro._ Os visinhos, que não\n",
      "gostam dos meus habitos reclusos e calados, deram curso á alcunha, que\n",
      "afinal pegou. Nem por isso me zanguei. Contei a anecdota aos amigos da\n",
      "cidade, e elles, por graça, chamam-me assim, alguns em bilhetes: «Dom\n",
      "Casmurro, domingo vou jantar com você.»--«Vou para Petropolis, Dom\n",
      "Casmurro; a casa é a mesma da Rhenania; vê se deixas essa caverna do\n",
      "Engenho Novo, e vae lá passar uns quinze dias commigo.»--«Meu caro Dom\n",
      "Casmurro, não cuide que o dispenso do theatro amanhã; venha e dormirá\n",
      "aqui na cidade; dou-lhe camarote, dou-lhe chá, dou-lhe cama; só não lhe\n",
      "dou moça.»\n",
      "\n",
      "Não consultes diccionarios. _Casmurro_ não está aqui no sentido que\n",
      "elles lhe dão, mas no que lhe poz o vulgo de homem calado e mettido\n",
      "comsigo. _Dom_ veiu por ironia, para attribuir-me fumos de fidalgo.\n",
      "Tudo por estar cochilando! Tambem não achei melhor titulo para a minha\n",
      "narração; se não tiver outro d'aqui até ao fim do livro, vae este\n",
      "mesmo. O meu poeta do trem ficará sabendo que não lhe guardo rancor.\n",
      "E com pequeno esforço, sendo o titulo seu, poderá cuidar que a obra\n",
      "é sua. Ha livros que apenas terão isso dos seus autores; alguns nem\n",
      "tanto.\n",
      "\n"
     ]
    }
   ],
   "source": [
    "# Abrindo e lendo um arquivo\n",
    "arquivo = open(\"dom_casmurro_capitulo_1.txt\", 'r')\n",
    "texto = arquivo.read()\n",
    "\n",
    "print(texto)\n",
    "arquivo.close()"
   ]
  },
  {
   "cell_type": "code",
   "execution_count": 6,
   "id": "22cefa33",
   "metadata": {},
   "outputs": [
    {
     "name": "stdout",
     "output_type": "stream",
     "text": [
      "linha 1 - I\n",
      "linha 2 - \n",
      "linha 3 - Do titulo.\n",
      "linha 4 - \n",
      "linha 5 - Uma noite destas, vindo da cidade para o Engenho Novo, encontrei no\n",
      "linha 6 - trem da Central um rapaz aqui do bairro, que eu conheço de vista e\n",
      "linha 7 - de chapéo. Comprimentou-me, sentou-se ao pé de mim, falou da lua e\n",
      "linha 8 - dos ministros, e acabou recitando-me versos. A viagem era curta, e os\n",
      "linha 9 - versos póde ser que não fossem inteiramente maus. Succedeu, porém, que\n",
      "linha 10 - como eu estava cançado, fechei os olhos tres ou quatro vezes; tanto\n",
      "linha 11 - bastou para que elle interrompesse a leitura e mettesse os versos no\n",
      "linha 12 - bolso.\n",
      "linha 13 - \n",
      "linha 14 - --Continue, disse eu accordando.\n",
      "linha 15 - \n",
      "linha 16 - --Já acabei, murmurou elle.\n",
      "linha 17 - \n",
      "linha 18 - --São muito bonitos.\n",
      "linha 19 - \n",
      "linha 20 - Vi-lhe fazer um gesto para tiral-os outra vez do bolso, mas não passou\n",
      "linha 21 - do gesto; estava amuado. No dia seguinte entrou a dizer de mim nomes\n",
      "linha 22 - feios, e acabou alcunhando-me _Dom Casmurro._ Os visinhos, que não\n",
      "linha 23 - gostam dos meus habitos reclusos e calados, deram curso á alcunha, que\n",
      "linha 24 - afinal pegou. Nem por isso me zanguei. Contei a anecdota aos amigos da\n",
      "linha 25 - cidade, e elles, por graça, chamam-me assim, alguns em bilhetes: «Dom\n",
      "linha 26 - Casmurro, domingo vou jantar com você.»--«Vou para Petropolis, Dom\n",
      "linha 27 - Casmurro; a casa é a mesma da Rhenania; vê se deixas essa caverna do\n",
      "linha 28 - Engenho Novo, e vae lá passar uns quinze dias commigo.»--«Meu caro Dom\n",
      "linha 29 - Casmurro, não cuide que o dispenso do theatro amanhã; venha e dormirá\n",
      "linha 30 - aqui na cidade; dou-lhe camarote, dou-lhe chá, dou-lhe cama; só não lhe\n",
      "linha 31 - dou moça.»\n",
      "linha 32 - \n",
      "linha 33 - Não consultes diccionarios. _Casmurro_ não está aqui no sentido que\n",
      "linha 34 - elles lhe dão, mas no que lhe poz o vulgo de homem calado e mettido\n",
      "linha 35 - comsigo. _Dom_ veiu por ironia, para attribuir-me fumos de fidalgo.\n",
      "linha 36 - Tudo por estar cochilando! Tambem não achei melhor titulo para a minha\n",
      "linha 37 - narração; se não tiver outro d'aqui até ao fim do livro, vae este\n",
      "linha 38 - mesmo. O meu poeta do trem ficará sabendo que não lhe guardo rancor.\n",
      "linha 39 - E com pequeno esforço, sendo o titulo seu, poderá cuidar que a obra\n",
      "linha 40 - é sua. Ha livros que apenas terão isso dos seus autores; alguns nem\n",
      "linha 41 - tanto.\n"
     ]
    }
   ],
   "source": [
    "# Abrindo e lendo um arquivo linha a linha usando while\n",
    "arquivo = open(\"dom_casmurro_capitulo_1.txt\", 'r')\n",
    "linha = arquivo.readline()\n",
    "\n",
    "cont = 1\n",
    "while linha != '':\n",
    "    print(f\"linha {cont} - {linha}\", end=\"\")\n",
    "    linha = arquivo.readline()\n",
    "    cont += 1\n",
    "arquivo.close()"
   ]
  },
  {
   "cell_type": "code",
   "execution_count": 8,
   "id": "5c914fdb",
   "metadata": {},
   "outputs": [
    {
     "name": "stdout",
     "output_type": "stream",
     "text": [
      "linha 1 - I\n",
      "linha 2 - \n",
      "linha 3 - Do titulo.\n",
      "linha 4 - \n",
      "linha 5 - Uma noite destas, vindo da cidade para o Engenho Novo, encontrei no\n",
      "linha 6 - trem da Central um rapaz aqui do bairro, que eu conheço de vista e\n",
      "linha 7 - de chapéo. Comprimentou-me, sentou-se ao pé de mim, falou da lua e\n",
      "linha 8 - dos ministros, e acabou recitando-me versos. A viagem era curta, e os\n",
      "linha 9 - versos póde ser que não fossem inteiramente maus. Succedeu, porém, que\n",
      "linha 10 - como eu estava cançado, fechei os olhos tres ou quatro vezes; tanto\n",
      "linha 11 - bastou para que elle interrompesse a leitura e mettesse os versos no\n",
      "linha 12 - bolso.\n",
      "linha 13 - \n",
      "linha 14 - --Continue, disse eu accordando.\n",
      "linha 15 - \n",
      "linha 16 - --Já acabei, murmurou elle.\n",
      "linha 17 - \n",
      "linha 18 - --São muito bonitos.\n",
      "linha 19 - \n",
      "linha 20 - Vi-lhe fazer um gesto para tiral-os outra vez do bolso, mas não passou\n",
      "linha 21 - do gesto; estava amuado. No dia seguinte entrou a dizer de mim nomes\n",
      "linha 22 - feios, e acabou alcunhando-me _Dom Casmurro._ Os visinhos, que não\n",
      "linha 23 - gostam dos meus habitos reclusos e calados, deram curso á alcunha, que\n",
      "linha 24 - afinal pegou. Nem por isso me zanguei. Contei a anecdota aos amigos da\n",
      "linha 25 - cidade, e elles, por graça, chamam-me assim, alguns em bilhetes: «Dom\n",
      "linha 26 - Casmurro, domingo vou jantar com você.»--«Vou para Petropolis, Dom\n",
      "linha 27 - Casmurro; a casa é a mesma da Rhenania; vê se deixas essa caverna do\n",
      "linha 28 - Engenho Novo, e vae lá passar uns quinze dias commigo.»--«Meu caro Dom\n",
      "linha 29 - Casmurro, não cuide que o dispenso do theatro amanhã; venha e dormirá\n",
      "linha 30 - aqui na cidade; dou-lhe camarote, dou-lhe chá, dou-lhe cama; só não lhe\n",
      "linha 31 - dou moça.»\n",
      "linha 32 - \n",
      "linha 33 - Não consultes diccionarios. _Casmurro_ não está aqui no sentido que\n",
      "linha 34 - elles lhe dão, mas no que lhe poz o vulgo de homem calado e mettido\n",
      "linha 35 - comsigo. _Dom_ veiu por ironia, para attribuir-me fumos de fidalgo.\n",
      "linha 36 - Tudo por estar cochilando! Tambem não achei melhor titulo para a minha\n",
      "linha 37 - narração; se não tiver outro d'aqui até ao fim do livro, vae este\n",
      "linha 38 - mesmo. O meu poeta do trem ficará sabendo que não lhe guardo rancor.\n",
      "linha 39 - E com pequeno esforço, sendo o titulo seu, poderá cuidar que a obra\n",
      "linha 40 - é sua. Ha livros que apenas terão isso dos seus autores; alguns nem\n",
      "linha 41 - tanto.\n"
     ]
    }
   ],
   "source": [
    "# Abrindo e lendo um arquivo linha a linha usando for\n",
    "arquivo = open(\"dom_casmurro_capitulo_1.txt\", 'r')\n",
    "\n",
    "cont = 1\n",
    "for linha in arquivo:\n",
    "    print(f\"linha {cont} - {linha}\", end=\"\")\n",
    "    cont += 1\n",
    "\n",
    "arquivo.close()"
   ]
  },
  {
   "cell_type": "code",
   "execution_count": 10,
   "id": "dbe18541",
   "metadata": {},
   "outputs": [
    {
     "name": "stdout",
     "output_type": "stream",
     "text": [
      "I\n",
      "\n",
      "Do titulo.\n",
      "\n",
      "Uma noite destas, vindo da cidade para o Engenho Novo, encontrei no\n",
      "trem da Central um rapaz aqui do bairro, que eu conheço de vista e\n",
      "de chapéo. Comprimentou-me, sentou-se ao pé de mim, falou da lua e\n",
      "dos ministros, e acabou recitando-me versos. A viagem era curta, e os\n",
      "versos póde ser que não fossem inteiramente maus. Succedeu, porém, que\n",
      "como eu estava cançado, fechei os olhos tres ou quatro vezes; tanto\n",
      "bastou para que elle interrompesse a leitura e mettesse os versos no\n",
      "bolso.\n",
      "\n",
      "--Continue, disse eu accordando.\n",
      "\n",
      "--Já acabei, murmurou elle.\n",
      "\n",
      "--São muito bonitos.\n",
      "\n",
      "Vi-lhe fazer um gesto para tiral-os outra vez do bolso, mas não passou\n",
      "do gesto; estava amuado. No dia seguinte entrou a dizer de mim nomes\n",
      "feios, e acabou alcunhando-me _Dom Casmurro._ Os visinhos, que não\n",
      "gostam dos meus habitos reclusos e calados, deram curso á alcunha, que\n",
      "afinal pegou. Nem por isso me zanguei. Contei a anecdota aos amigos da\n",
      "cidade, e elles, por graça, chamam-me assim, alguns em bilhetes: «Dom\n",
      "Casmurro, domingo vou jantar com você.»--«Vou para Petropolis, Dom\n",
      "Casmurro; a casa é a mesma da Rhenania; vê se deixas essa caverna do\n",
      "Engenho Novo, e vae lá passar uns quinze dias commigo.»--«Meu caro Dom\n",
      "Casmurro, não cuide que o dispenso do theatro amanhã; venha e dormirá\n",
      "aqui na cidade; dou-lhe camarote, dou-lhe chá, dou-lhe cama; só não lhe\n",
      "dou moça.»\n",
      "\n",
      "Não consultes diccionarios. _Casmurro_ não está aqui no sentido que\n",
      "elles lhe dão, mas no que lhe poz o vulgo de homem calado e mettido\n",
      "comsigo. _Dom_ veiu por ironia, para attribuir-me fumos de fidalgo.\n",
      "Tudo por estar cochilando! Tambem não achei melhor titulo para a minha\n",
      "narração; se não tiver outro d'aqui até ao fim do livro, vae este\n",
      "mesmo. O meu poeta do trem ficará sabendo que não lhe guardo rancor.\n",
      "E com pequeno esforço, sendo o titulo seu, poderá cuidar que a obra\n",
      "é sua. Ha livros que apenas terão isso dos seus autores; alguns nem\n",
      "tanto.\n",
      "\n"
     ]
    }
   ],
   "source": [
    "# abrindo arqivo temporariamente (sem precisar fechar apos o uso)\n",
    "with open('dom_casmurro_capitulo_1.txt', 'r',) as arquivo:\n",
    "    texto = arquivo.read()\n",
    "    print(texto)"
   ]
  },
  {
   "cell_type": "code",
   "execution_count": 13,
   "id": "73af5030",
   "metadata": {},
   "outputs": [
    {
     "name": "stdout",
     "output_type": "stream",
     "text": [
      "Esse é um arquivo de teste criado usando Python\n",
      "Essa é a segunda linha\n",
      "\n"
     ]
    }
   ],
   "source": [
    "# Criando um novo arquivo\n",
    "with open('teste.txt', 'w', encoding='utf-8') as arquivo:\n",
    "    arquivo.write(\"Esse é um arquivo de teste criado usando Python\\n\")\n",
    "    arquivo.write(\"Essa é a segunda linha\\n\")\n",
    "\n",
    "with open('teste.txt', 'r',) as arquivo:\n",
    "    texto = arquivo.read()\n",
    "    print(texto)"
   ]
  },
  {
   "cell_type": "code",
   "execution_count": 14,
   "id": "056a7c56",
   "metadata": {},
   "outputs": [
    {
     "name": "stdout",
     "output_type": "stream",
     "text": [
      "Esse é um arquivo de teste criado usando Python\n",
      "Essa é a segunda linha\n",
      "Essa é a terceira linha\n",
      "\n"
     ]
    }
   ],
   "source": [
    "# Adicionando linha ao final do arquivo\n",
    "with open('teste.txt', 'a', encoding='utf-8') as arquivo:\n",
    "    arquivo.write(\"Essa é a terceira linha\\n\")\n",
    "\n",
    "with open('teste.txt', 'r',) as arquivo:\n",
    "    texto = arquivo.read()\n",
    "    print(texto)"
   ]
  }
 ],
 "metadata": {
  "kernelspec": {
   "display_name": "Python 3 (ipykernel)",
   "language": "python",
   "name": "python3"
  },
  "language_info": {
   "codemirror_mode": {
    "name": "ipython",
    "version": 3
   },
   "file_extension": ".py",
   "mimetype": "text/x-python",
   "name": "python",
   "nbconvert_exporter": "python",
   "pygments_lexer": "ipython3",
   "version": "3.10.6"
  }
 },
 "nbformat": 4,
 "nbformat_minor": 5
}
