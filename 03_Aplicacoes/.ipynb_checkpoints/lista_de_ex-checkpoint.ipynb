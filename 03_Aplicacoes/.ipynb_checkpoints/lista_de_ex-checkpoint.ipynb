{
 "cells": [
  {
   "cell_type": "markdown",
   "id": "456e6d6c",
   "metadata": {},
   "source": [
    "# Questão 1.\n",
    "Faça um programa que peça ao usuário um número e imprima todos os números de um até o número que o usuário informar.\n",
    "- Exemplo: \n",
    "    Se o usuário informar o número 5, seu programa deverá imprimir: 1 2 3 4 5."
   ]
  },
  {
   "cell_type": "code",
   "execution_count": 3,
   "id": "a0565e00",
   "metadata": {},
   "outputs": [
    {
     "name": "stdout",
     "output_type": "stream",
     "text": [
      "Informe um numero: 5\n",
      "1 2 3 4 5 "
     ]
    }
   ],
   "source": [
    "num = int(input(\"Informe um numero: \"))\n",
    "for i in range(num):\n",
    "    print(i + 1, end=\" \")"
   ]
  },
  {
   "cell_type": "markdown",
   "id": "b57a319c",
   "metadata": {},
   "source": [
    "# Questão 2.\n",
    "Crie um programa que leia um valor qualquer e apresente uma mensagem dizendo em qual dos seguintes intervalos ([0,25], (25,50], (50,75], (75,100]) este valor se encontra. Caso o valor não esteja em nenhum destes intervalos, deverá ser impressa a mensagem “Fora de intervalo”. Veja alguns exemplo abaixo:\n",
    "- Exemplo: \n",
    "\n",
    "\n",
    "    Entrada: 25.01 | Saída: (25,50]\n",
    "    Entrada: 25.00 | Saída: [0,25]\n",
    "    Entrada: 100.00 | Saída: (75,100]\n",
    "    Entrada: -25.02 | Saída: Fora de intervalo\n",
    "- Lembrando que o [ ou ] representa que o valor está contido no intervalo, enquanto o ( ou ) representa que o valor associado não está contido no intervalo. Em outras palavras, (75, 100] representa o intervalo que vai de maior que 75 (não incluindo o 75) até menor ou igual 100."
   ]
  },
  {
   "cell_type": "code",
   "execution_count": 7,
   "id": "afbe88e5",
   "metadata": {},
   "outputs": [
    {
     "name": "stdout",
     "output_type": "stream",
     "text": [
      "Informe um numero: 26\n",
      "(25,50]\n"
     ]
    }
   ],
   "source": [
    "num = int(input(\"Informe um numero: \"))\n",
    "\n",
    "if 0 <= num <= 25:\n",
    "    print(\"[0,25]\")\n",
    "elif 25 < num <= 50:\n",
    "    print(\"(25,50]\")\n",
    "elif 50 < num <= 75:\n",
    "    print(\"(50,75]\")\n",
    "elif 75 < num <= 100:\n",
    "    print(\"(75,100]\")\n",
    "else:\n",
    "    print(\"Fora do intervalo\")"
   ]
  },
  {
   "cell_type": "markdown",
   "id": "524ac64c",
   "metadata": {},
   "source": [
    "# Questão 3.\n",
    "Crie uma função que recebe o valor do raio de um círculo como parâmetro e retorna o valor da área desse círculo. Lembrando que a área de círculo é dada pela equação: A = π r^2.\n",
    "\n",
    "- Dica: Para utilizar um valor mais preciso do pi (π), você pode importar a biblioteca math, e utilizar o math.pi."
   ]
  },
  {
   "cell_type": "code",
   "execution_count": 13,
   "id": "e14ea8dd",
   "metadata": {},
   "outputs": [
    {
     "name": "stdout",
     "output_type": "stream",
     "text": [
      "Informe o raio de um circulo: 12\n",
      "452.3893421169302\n"
     ]
    }
   ],
   "source": [
    "from math import pi\n",
    "# print(math.pi)\n",
    "\n",
    "def area_circulo(raio):\n",
    "    area = pi * (raio ** 2)\n",
    "    return area\n",
    "\n",
    "num = int(input(\"Informe o raio de um circulo: \"))\n",
    "\n",
    "print(area_circulo(num))\n"
   ]
  },
  {
   "cell_type": "markdown",
   "id": "7ed4ba18",
   "metadata": {},
   "source": [
    "# Questão 4.\n",
    "Faça um programa que peça 2 números inteiros e um número real, calcule e mostre: \n",
    "- a) o produto entre o dobro do primeiro e a metade do segundo.\n",
    "- b) a soma entre o triplo do primeiro e o terceiro.\n",
    "- c) o terceiro elevado ao cubo."
   ]
  },
  {
   "cell_type": "code",
   "execution_count": 16,
   "id": "a3186d76",
   "metadata": {},
   "outputs": [
    {
     "name": "stdout",
     "output_type": "stream",
     "text": [
      "Informe um numero inteiro: 10\n",
      "Informe outro numero inteiro: 10\n",
      "Informe um numero real: 10\n",
      "O produto entre o dobro do primeiro e a metade do segundo é 100.0\n",
      "A soma entre o triplo do primeiro e o terceiro é 40.0\n",
      "O terceiro elevado ao cubo é 1000.0\n"
     ]
    }
   ],
   "source": [
    "def a(num):\n",
    "    # o produto entre \n",
    "    # o dobro do primeiro \n",
    "    # e a metade do segundo\n",
    "    n1 = num[0] * 2\n",
    "    n2 = num[1] * 0.5\n",
    "    produto = n1 * n2\n",
    "    return f\"O produto entre o dobro do primeiro e a metade do segundo é {produto}\"\n",
    "\n",
    "\n",
    "def b(num):\n",
    "    # a soma entre \n",
    "    #o triplo do primeiro \n",
    "    #e o terceiro.\n",
    "    n1 = num[0] * 3\n",
    "    n2 = num[2]\n",
    "    soma = n1 + n2\n",
    "    return f\"A soma entre o triplo do primeiro e o terceiro é {soma}\"\n",
    "\n",
    "\n",
    "def c(num):\n",
    "    #o terceiro elevado ao cubo.\n",
    "    n = num[2]\n",
    "    cubo = n ** 3\n",
    "    return f\"O terceiro elevado ao cubo é {cubo}\"\n",
    "\n",
    "\n",
    "num = []\n",
    "num.append(int(input(\"Informe um numero inteiro: \")))\n",
    "num.append(int(input(\"Informe outro numero inteiro: \")))\n",
    "num.append(float(input(\"Informe um numero real: \")))\n",
    "\n",
    "print(a(num))\n",
    "print(b(num))\n",
    "print(c(num))\n",
    "\n",
    "\n",
    "\n"
   ]
  },
  {
   "cell_type": "markdown",
   "id": "af45cf42",
   "metadata": {},
   "source": [
    "# Questão 5.\n",
    "Vamos fazer um programa para verificar quem é o assassino de um crime. \n",
    "Para descobrir o assassino, a polícia faz um pequeno questionário com 5 perguntas onde a resposta só pode ser\n",
    "sim ou não:\n",
    "\n",
    "\n",
    "    (a) Mora perto da vítima?\n",
    "    (b) Já trabalhou com a vítima?\n",
    "    (c) Telefonou para a vítima?\n",
    "    (d) Esteve no local do crime?\n",
    "    (e) Devia para a vítima?\n",
    "\n",
    "\n",
    "Cada resposta sim dá um ponto para o suspeito. A polícia considera que os suspeitos com 5 pontos são os assassinos, com 4 a 3 pontos são cúmplices e 2 pontos são apenas suspeitos, necessitando de outras investigações. Valores abaixo de 2 são liberados.\n",
    "\n",
    "\n",
    "No seu programa, você deve fazer essas perguntas e, de acordo com as respostas do usuário, você vai informar como a polícia o considera."
   ]
  },
  {
   "cell_type": "code",
   "execution_count": 5,
   "id": "2a958588",
   "metadata": {},
   "outputs": [
    {
     "name": "stdout",
     "output_type": "stream",
     "text": [
      "Responda as perguntas abaixo com 'sim' ou 'nao':\n",
      "Mora perto da vítima?Nao\n",
      "Já trabalhou com a vítima?Nao\n",
      "Telefonou para a vítima?Nao\n",
      "Esteve no local do crimeNao\n",
      "Devia para a vítima?Nao\n",
      "A policia liberou o suspeito.\n"
     ]
    }
   ],
   "source": [
    "perguntas = [\n",
    "    \"Mora perto da vítima?\", \n",
    "    \"Já trabalhou com a vítima?\",\n",
    "    \"Telefonou para a vítima?\",\n",
    "    \"Esteve no local do crime\",\n",
    "    \"Devia para a vítima?\"\n",
    "]\n",
    "\n",
    "print(\"Responda as perguntas abaixo com 'sim' ou 'nao':\")\n",
    "respostas_sim = 0\n",
    "\n",
    "for i in range(len(perguntas)):\n",
    "    resposta = input(perguntas[i]).lower()\n",
    "    if resposta == \"sim\":\n",
    "        respostas_sim += 1\n",
    "\n",
    "if respostas_sim == 5:\n",
    "    print(\"A policia considera o suspeito como assasino.\")\n",
    "elif 3 <= respostas_sim <= 4 :\n",
    "    print(\"A policia considera o suspeito como cumplice.\")\n",
    "elif respostas_sim == 2 :\n",
    "    print(\"A policia considera apenas como suspeito.\")\n",
    "else:\n",
    "    print(\"A policia liberou o suspeito.\")\n",
    "\n",
    "    \n"
   ]
  },
  {
   "cell_type": "markdown",
   "id": "1ed95594",
   "metadata": {},
   "source": [
    "# Questão 6.\n",
    "Faça uma função que recebe uma lista de números e retorna a soma dos elementos dessa lista."
   ]
  },
  {
   "cell_type": "code",
   "execution_count": 7,
   "id": "ec76f4c1",
   "metadata": {},
   "outputs": [
    {
     "name": "stdout",
     "output_type": "stream",
     "text": [
      "55\n"
     ]
    }
   ],
   "source": [
    "def soma_numeros(numeros):\n",
    "    soma = 0\n",
    "    for i in range(len(numeros)):\n",
    "        soma += numeros[i]\n",
    "    return soma\n",
    "\n",
    "print(soma_numeros([1, 2, 3, 4, 5, 6, 7, 8, 9, 10]))"
   ]
  },
  {
   "cell_type": "markdown",
   "id": "2c1bdbc4",
   "metadata": {},
   "source": [
    "# Questão 7.\n",
    "Faça um programa que leia as coordenadas de 2 (dois) pontos em um plano cartesiano 2D: a coordenada x do primeiro ponto (x_1), a coordenada y do primeiro ponto (y_1), a coordenada x do segundo ponto (x_2) e a coordenada y do segundo ponto (y_2). Em seguida, calcule a distância euclidiana entre os pontos, utilizando a equação abaixo:\n",
    "\n",
    "d = sqrt(((xb - xa) ** 2) + ((yb - ya) ** 2))"
   ]
  },
  {
   "cell_type": "code",
   "execution_count": 14,
   "id": "b6c9c0cc",
   "metadata": {},
   "outputs": [
    {
     "name": "stdout",
     "output_type": "stream",
     "text": [
      "Informe a coordenada x do primeiro ponto (Xa): 10\n",
      "Informe a coordenada y do primeiro ponto (Ya): 12\n",
      "Informe a coordenada x do segundo ponto (Xb): 24\n",
      "Informe a coordenada x do segundo ponto (Yb): 22\n",
      "A distância euclidiana entre os pontos é 17.204650534085253.\n"
     ]
    }
   ],
   "source": [
    "from math import sqrt\n",
    "\n",
    "xa = float(input(\"Informe a coordenada x do primeiro ponto (Xa): \"))\n",
    "ya = float(input(\"Informe a coordenada y do primeiro ponto (Ya): \"))\n",
    "xb = float(input(\"Informe a coordenada x do segundo ponto (Xb): \"))\n",
    "yb = float(input(\"Informe a coordenada x do segundo ponto (Yb): \"))\n",
    "\n",
    "d = sqrt(((xb - xa) ** 2) + ((yb - ya) ** 2))      \n",
    "print(f\"A distância euclidiana entre os pontos é {d}.\")"
   ]
  },
  {
   "cell_type": "markdown",
   "id": "15cfd6e1",
   "metadata": {},
   "source": [
    "# Questão 8.\n",
    "Calcule a soma de mil termos dos inversos dos fatoriais: 1/(1!) + 1/(2!) + 1/(3!) + 1/(4!) + ... Dica: Use três variáveis:\n",
    "\n",
    "- um contador;\n",
    "- uma variável para soma;\n",
    "- e uma variável para os termos.\n",
    "\n",
    "Lembre-se de que 4! = 4 * *3 ** 2 * *1, que também é igual a 4 ** 3!."
   ]
  },
  {
   "cell_type": "code",
   "execution_count": 15,
   "id": "0ef7fd03",
   "metadata": {},
   "outputs": [
    {
     "ename": "SyntaxError",
     "evalue": "incomplete input (96429308.py, line 5)",
     "output_type": "error",
     "traceback": [
      "\u001b[0;36m  Cell \u001b[0;32mIn [15], line 5\u001b[0;36m\u001b[0m\n\u001b[0;31m    \u001b[0m\n\u001b[0m    ^\u001b[0m\n\u001b[0;31mSyntaxError\u001b[0m\u001b[0;31m:\u001b[0m incomplete input\n"
     ]
    }
   ],
   "source": [
    "contador = 1000\n",
    "soma = 0\n",
    "\n",
    "while cotador < 0:\n",
    "    "
   ]
  },
  {
   "cell_type": "markdown",
   "id": "26bc82e6",
   "metadata": {},
   "source": [
    "# Questão 9.\n",
    "Crie (manualmente ou sorteando os números) uma lista de 10 números e imprima:\n",
    "1. uma lista com os 4 primeiros números;\n",
    "2. uma lista com os 5 últimos números;\n",
    "3. uma lista contendo apenas os elementos das posições pares;\n",
    "4. uma lista contendo apenas os elementos das posições ímpares;\n",
    "5. a lista inversa da lista sorteada (isto é, uma lista que começa com o último elemento da lista sorteada e termina com o primeiro);\n",
    "6. uma lista inversa dos 5 primeiros números;\n",
    "7. uma lista inversa dos 5 últimos números."
   ]
  },
  {
   "cell_type": "code",
   "execution_count": 34,
   "id": "6757276b",
   "metadata": {},
   "outputs": [],
   "source": [
    "import random"
   ]
  },
  {
   "cell_type": "code",
   "execution_count": 38,
   "id": "120377c9",
   "metadata": {},
   "outputs": [
    {
     "name": "stdout",
     "output_type": "stream",
     "text": [
      "[78, 29, 35, 66, 4, 94, 18, 39, 43, 61]\n"
     ]
    }
   ],
   "source": [
    "# Criando a lista\n",
    "lista = []\n",
    "for i in range(10):\n",
    "    lista.append(random.randint(0, 100))\n",
    "print(lista)"
   ]
  },
  {
   "cell_type": "code",
   "execution_count": 39,
   "id": "4e3f93f2",
   "metadata": {},
   "outputs": [
    {
     "name": "stdout",
     "output_type": "stream",
     "text": [
      "[78, 29, 35, 66]\n"
     ]
    }
   ],
   "source": [
    "# uma lista com os 4 primeiros números;\n",
    "primeiros_4 = []\n",
    "for i in range(4):\n",
    "    primeiros_4.append(lista[i])\n",
    "print(primeiros_4)"
   ]
  },
  {
   "cell_type": "code",
   "execution_count": 48,
   "id": "e264bda8",
   "metadata": {},
   "outputs": [
    {
     "name": "stdout",
     "output_type": "stream",
     "text": [
      "[94, 18, 39, 43, 61]\n"
     ]
    }
   ],
   "source": [
    "# uma lista com os 5 últimos números;\n",
    "ultimos_5 = []\n",
    "for i in range(-5, 0):\n",
    "    ultimos_5.append(lista[i])\n",
    "print(ultimos_5)"
   ]
  },
  {
   "cell_type": "code",
   "execution_count": 59,
   "id": "49e93891",
   "metadata": {},
   "outputs": [
    {
     "name": "stdout",
     "output_type": "stream",
     "text": [
      "[78, 66, 4, 94, 18]\n"
     ]
    }
   ],
   "source": [
    "# uma lista contendo apenas os elementos das posições pares;\n",
    "pares = []\n",
    "for i in range(len(lista)):\n",
    "    if lista[i] % 2 == 0:\n",
    "        pares.append(lista[i])\n",
    "print(pares)"
   ]
  },
  {
   "cell_type": "code",
   "execution_count": 61,
   "id": "941c4162",
   "metadata": {},
   "outputs": [
    {
     "name": "stdout",
     "output_type": "stream",
     "text": [
      "[29, 35, 39, 43, 61]\n"
     ]
    }
   ],
   "source": [
    "# uma lista contendo apenas os elementos das posições ímpares;\n",
    "impares = []\n",
    "for i in range(len(lista)):\n",
    "    if lista[i] % 2 != 0:\n",
    "        impares.append(lista[i])\n",
    "print(impares)"
   ]
  },
  {
   "cell_type": "code",
   "execution_count": null,
   "id": "dc552b73",
   "metadata": {},
   "outputs": [],
   "source": []
  }
 ],
 "metadata": {
  "kernelspec": {
   "display_name": "Python 3 (ipykernel)",
   "language": "python",
   "name": "python3"
  },
  "language_info": {
   "codemirror_mode": {
    "name": "ipython",
    "version": 3
   },
   "file_extension": ".py",
   "mimetype": "text/x-python",
   "name": "python",
   "nbconvert_exporter": "python",
   "pygments_lexer": "ipython3",
   "version": "3.10.6"
  }
 },
 "nbformat": 4,
 "nbformat_minor": 5
}
