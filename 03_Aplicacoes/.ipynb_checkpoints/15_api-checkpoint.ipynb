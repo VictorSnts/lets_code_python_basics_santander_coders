{
 "cells": [
  {
   "cell_type": "code",
   "execution_count": 18,
   "id": "7f54dcd5",
   "metadata": {},
   "outputs": [
    {
     "name": "stdout",
     "output_type": "stream",
     "text": [
      "200\n"
     ]
    }
   ],
   "source": [
    "import requests\n",
    "\n",
    "req = requests.request('GET', 'https://v6.exchangerate-api.com/v6/4f9fc07b10acd4a2b973afd3/latest/BRL')\n",
    "\n",
    "print(req.status_code)"
   ]
  },
  {
   "cell_type": "code",
   "execution_count": 19,
   "id": "014ffddb",
   "metadata": {},
   "outputs": [
    {
     "name": "stdout",
     "output_type": "stream",
     "text": [
      "{'result': 'success', 'documentation': 'https://www.exchangerate-api.com/docs', 'terms_of_use': 'https://www.exchangerate-api.com/terms', 'time_last_update_unix': 1662940802, 'time_last_update_utc': 'Mon, 12 Sep 2022 00:00:02 +0000', 'time_next_update_unix': 1663027202, 'time_next_update_utc': 'Tue, 13 Sep 2022 00:00:02 +0000', 'base_code': 'BRL', 'conversion_rates': {'BRL': 1, 'AED': 0.7076, 'AFN': 17.0708, 'ALL': 22.7503, 'AMD': 77.6046, 'ANG': 0.3449, 'AOA': 82.5224, 'ARS': 27.3734, 'AUD': 0.2815, 'AWG': 0.3449, 'AZN': 0.3291, 'BAM': 0.3745, 'BBD': 0.3854, 'BDT': 18.3889, 'BGN': 0.3745, 'BHD': 0.07245, 'BIF': 393.2567, 'BMD': 0.1927, 'BND': 0.2695, 'BOB': 1.3368, 'BSD': 0.1927, 'BTN': 15.3339, 'BWP': 2.5121, 'BYN': 0.4885, 'BZD': 0.3854, 'CAD': 0.2507, 'CDF': 388.9516, 'CHF': 0.185, 'CLP': 170.4667, 'CNY': 1.3336, 'COP': 852.7851, 'CRC': 126.8245, 'CUP': 4.6245, 'CVE': 21.1145, 'CZK': 4.6916, 'DJF': 34.2444, 'DKK': 1.4286, 'DOP': 10.2661, 'DZD': 27.3191, 'EGP': 3.735, 'ERN': 2.8903, 'ETB': 10.148, 'EUR': 0.1915, 'FJD': 0.4306, 'FKP': 0.1663, 'FOK': 1.4286, 'GBP': 0.1663, 'GEL': 0.545, 'GGP': 0.1663, 'GHS': 2.0045, 'GIP': 0.1663, 'GMD': 10.7412, 'GNF': 1665.8639, 'GTQ': 1.5012, 'GYD': 40.357, 'HKD': 1.5124, 'HNL': 4.7618, 'HRK': 1.4428, 'HTG': 23.1605, 'HUF': 75.7736, 'IDR': 2859.5919, 'ILS': 0.6588, 'IMP': 0.1663, 'INR': 15.3341, 'IQD': 281.5689, 'IRR': 8032.7002, 'ISK': 26.8125, 'JEP': 0.1663, 'JMD': 29.2096, 'JOD': 0.1366, 'JPY': 27.4292, 'KES': 23.3655, 'KGS': 15.6624, 'KHR': 793.9559, 'KID': 0.2815, 'KMF': 94.2061, 'KRW': 265.4757, 'KWD': 0.05773, 'KYD': 0.1606, 'KZT': 91.4052, 'LAK': 3039.2311, 'LBP': 290.4745, 'LKR': 69.7476, 'LRD': 29.7777, 'LSL': 3.3318, 'LYD': 0.9557, 'MAD': 2.0773, 'MDL': 3.7459, 'MGA': 794.576, 'MKD': 11.8292, 'MMK': 406.4475, 'MNT': 620.3285, 'MOP': 1.5577, 'MRU': 7.2832, 'MUR': 8.7161, 'MVR': 2.9833, 'MWK': 200.0864, 'MXN': 3.8369, 'MYR': 0.8664, 'MZN': 12.3368, 'NAD': 3.3318, 'NGN': 82.7897, 'NIO': 6.9463, 'NOK': 1.9096, 'NPR': 24.5342, 'NZD': 0.3151, 'OMR': 0.07409, 'PAB': 0.1927, 'PEN': 0.7528, 'PGK': 0.6831, 'PHP': 10.9446, 'PKR': 44.2736, 'PLN': 0.902, 'PYG': 1337.7254, 'QAR': 0.7014, 'RON': 0.9373, 'RSD': 22.5066, 'RUB': 11.6891, 'RWF': 207.6969, 'SAR': 0.7226, 'SBD': 1.5773, 'SCR': 2.4916, 'SDG': 108.9064, 'SEK': 2.041, 'SGD': 0.2695, 'SHP': 0.1663, 'SLE': 2.7622, 'SLL': 2762.1733, 'SOS': 109.6619, 'SRD': 5.0204, 'SSP': 125.552, 'STN': 4.6915, 'SYP': 487.3674, 'SZL': 3.3318, 'THB': 6.998, 'TJS': 1.9691, 'TMT': 0.6711, 'TND': 0.6057, 'TOP': 0.4599, 'TRY': 3.5157, 'TTD': 1.3122, 'TVD': 0.2815, 'TWD': 5.9761, 'TZS': 450.3799, 'UAH': 7.1266, 'UGX': 736.1973, 'USD': 0.1927, 'UYU': 7.9415, 'UZS': 2102.9634, 'VES': 1.5383, 'VND': 4546.3116, 'VUV': 23.241, 'WST': 0.5321, 'XAF': 125.6081, 'XCD': 0.5203, 'XDR': 0.1469, 'XOF': 125.6081, 'XPF': 22.8507, 'YER': 48.5283, 'ZAR': 3.3319, 'ZMW': 2.997, 'ZWL': 112.0479}}\n"
     ]
    }
   ],
   "source": [
    "dados = req.json()\n",
    "\n",
    "print(dados)"
   ]
  },
  {
   "cell_type": "code",
   "execution_count": 22,
   "id": "0c42f048",
   "metadata": {},
   "outputs": [
    {
     "name": "stdout",
     "output_type": "stream",
     "text": [
      "Informe um valor em reais: R$5000\n",
      "Informe a moeda que voce quer saber a conversao: USD\n",
      "R$5000.0 em dolar vale 963.50\n"
     ]
    }
   ],
   "source": [
    "reais = float(input(\"Informe um valor em reais: R$\"))\n",
    "moeda = input(\"Informe a moeda que voce quer saber a conversao: \")\n",
    "\n",
    "conversao = dados[\"conversion_rates\"][moeda] * reais\n",
    "print(f\"R${reais} em dolar vale {(conversao):.2f}\")"
   ]
  }
 ],
 "metadata": {
  "kernelspec": {
   "display_name": "Python 3 (ipykernel)",
   "language": "python",
   "name": "python3"
  },
  "language_info": {
   "codemirror_mode": {
    "name": "ipython",
    "version": 3
   },
   "file_extension": ".py",
   "mimetype": "text/x-python",
   "name": "python",
   "nbconvert_exporter": "python",
   "pygments_lexer": "ipython3",
   "version": "3.10.6"
  }
 },
 "nbformat": 4,
 "nbformat_minor": 5
}
