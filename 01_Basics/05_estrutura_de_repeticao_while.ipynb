{
 "cells": [
  {
   "cell_type": "code",
   "execution_count": 1,
   "id": "e5e0b4b3",
   "metadata": {},
   "outputs": [
    {
     "name": "stdout",
     "output_type": "stream",
     "text": [
      "1 item limpo.\n",
      "2 itens limpos.\n",
      "3 itens limpos.\n",
      "4 itens limpos.\n",
      "5 itens limpos.\n",
      "6 itens limpos.\n",
      "7 itens limpos.\n",
      "8 itens limpos.\n",
      "9 itens limpos.\n",
      "10 itens limpos.\n",
      "Fim do loop while.\n"
     ]
    }
   ],
   "source": [
    "contador = 0\n",
    "\n",
    "while contador < 10:\n",
    "    contador += 1\n",
    "    if contador == 1:\n",
    "        print(f\"1 item limpo.\")\n",
    "    else:\n",
    "        print(f\"{contador} itens limpos.\")\n",
    "\n",
    "print(\"Fim do loop while.\")"
   ]
  },
  {
   "cell_type": "code",
   "execution_count": 2,
   "id": "8489414a",
   "metadata": {},
   "outputs": [
    {
     "name": "stdout",
     "output_type": "stream",
     "text": [
      "1 item limpo.\n",
      "2 itens limpos.\n",
      "3 itens limpos.\n",
      "4 itens limpos.\n",
      "5 itens limpos.\n",
      "6 itens limpos.\n",
      "7 itens limpos.\n",
      "8 itens limpos.\n",
      "9 itens limpos.\n",
      "10 itens limpos.\n",
      "Fim do loop while parando a execucao manual.\n"
     ]
    }
   ],
   "source": [
    "contador = 0\n",
    "\n",
    "while True:\n",
    "        if contador < 10:\n",
    "            contador += 1\n",
    "            if contador == 1:\n",
    "                print(f\"1 item limpo.\")\n",
    "            else:\n",
    "                print(f\"{contador} itens limpos.\")\n",
    "        else:\n",
    "            break\n",
    "\n",
    "print(\"Fim do loop while parando a execucao manual.\")"
   ]
  },
  {
   "cell_type": "code",
   "execution_count": 5,
   "id": "90c55bb5",
   "metadata": {},
   "outputs": [
    {
     "name": "stdout",
     "output_type": "stream",
     "text": [
      "Digite sua senha: password\n",
      "Senha correta\n"
     ]
    }
   ],
   "source": [
    "senha = input(\"Digite sua senha: \")\n",
    "\n",
    "while senha != \"password\":\n",
    "    senha = input(\"Senha invalida. Tente novamente:: \")\n",
    "print(\"Senha correta\")\n",
    "\n",
    "    "
   ]
  },
  {
   "cell_type": "code",
   "execution_count": 6,
   "id": "05b13da2",
   "metadata": {},
   "outputs": [
    {
     "name": "stdout",
     "output_type": "stream",
     "text": [
      "2 itens limpos.\n",
      "3 itens limpos.\n",
      "4 itens limpos.\n",
      "5 itens limpos.\n",
      "6 itens limpos.\n",
      "7 itens limpos.\n",
      "8 itens limpos.\n",
      "9 itens limpos.\n",
      "10 itens limpos.\n",
      "Fim do loop while.\n"
     ]
    }
   ],
   "source": [
    "contador = 0\n",
    "\n",
    "while contador < 10:\n",
    "    contador += 1\n",
    "    if contador == 1:\n",
    "        continue\n",
    "        print(f\"1 item limpo.\")\n",
    "    else:\n",
    "        print(f\"{contador} itens limpos.\")\n",
    "\n",
    "print(\"Fim do loop while.\")"
   ]
  },
  {
   "cell_type": "code",
   "execution_count": null,
   "id": "f7dc0241",
   "metadata": {},
   "outputs": [],
   "source": []
  }
 ],
 "metadata": {
  "kernelspec": {
   "display_name": "Python 3 (ipykernel)",
   "language": "python",
   "name": "python3"
  },
  "language_info": {
   "codemirror_mode": {
    "name": "ipython",
    "version": 3
   },
   "file_extension": ".py",
   "mimetype": "text/x-python",
   "name": "python",
   "nbconvert_exporter": "python",
   "pygments_lexer": "ipython3",
   "version": "3.10.6"
  }
 },
 "nbformat": 4,
 "nbformat_minor": 5
}
