{
 "cells": [
  {
   "cell_type": "code",
   "execution_count": 1,
   "id": "17d858e0",
   "metadata": {},
   "outputs": [],
   "source": [
    "# Input e Casting"
   ]
  },
  {
   "cell_type": "code",
   "execution_count": 2,
   "id": "40076e2f",
   "metadata": {},
   "outputs": [
    {
     "name": "stdout",
     "output_type": "stream",
     "text": [
      "Informe sua idade: 1\n",
      "O valor da variavel idade é 1 e o tipo dessa variavel é <class 'str'>\n"
     ]
    }
   ],
   "source": [
    "    # Input - Pegar uma entrada do usuario\n",
    "idade = input(\"Informe sua idade: \")\n",
    "print(f\"O valor da variavel idade é {idade} e o tipo dessa variavel é {type(idade)}\")"
   ]
  },
  {
   "cell_type": "code",
   "execution_count": 3,
   "id": "6efb0bae",
   "metadata": {},
   "outputs": [
    {
     "name": "stdout",
     "output_type": "stream",
     "text": [
      "O valor da variavel idade é 1 e o tipo dessa variavel é <class 'int'>\n"
     ]
    }
   ],
   "source": [
    "    # Casting - Mudar o tipo de dados\n",
    "idade = int(idade) # Convertendo o valor de idade para inteiro\n",
    "print(f\"O valor da variavel idade é {idade} e o tipo dessa variavel é {type(idade)}\")"
   ]
  },
  {
   "cell_type": "code",
   "execution_count": 6,
   "id": "70a43ce1",
   "metadata": {},
   "outputs": [
    {
     "name": "stdout",
     "output_type": "stream",
     "text": [
      "O valor da variavel idade é 1.0 e o tipo dessa variavel é <class 'float'>\n"
     ]
    }
   ],
   "source": [
    "idade = float(idade) # Convertendo o valor de idade para ponto flutuante\n",
    "print(f\"O valor da variavel idade é {idade} e o tipo dessa variavel é {type(idade)}\")"
   ]
  },
  {
   "cell_type": "code",
   "execution_count": 8,
   "id": "8255900b",
   "metadata": {},
   "outputs": [
    {
     "name": "stdout",
     "output_type": "stream",
     "text": [
      "O valor da variavel idade é 1.0 e o tipo dessa variavel é <class 'str'>\n"
     ]
    }
   ],
   "source": [
    "idade = str(idade) # Convertendo o valor de idade para string\n",
    "print(f\"O valor da variavel idade é {idade} e o tipo dessa variavel é {type(idade)}\")"
   ]
  },
  {
   "cell_type": "code",
   "execution_count": 12,
   "id": "73adfc66",
   "metadata": {},
   "outputs": [
    {
     "name": "stdout",
     "output_type": "stream",
     "text": [
      "Informe seu salario: R$7500\n",
      "Informe seu gasto mensal: R$4123\n",
      "Voce pode economizar R$40524.0 em um ano.\n"
     ]
    }
   ],
   "source": [
    "# Exemplo - Saber o montante que uma pessoa pode economizar sabendo o seu salario e seu gasto mensal.\n",
    "salario = float(input(\"Informe seu salario: R$\"))\n",
    "gasto   = float(input(\"Informe seu gasto mensal: R$\"))\n",
    "\n",
    "economia = (salario - gasto) * 12\n",
    "print(f\"Voce pode economizar R${economia} em um ano.\")"
   ]
  }
 ],
 "metadata": {
  "kernelspec": {
   "display_name": "Python 3 (ipykernel)",
   "language": "python",
   "name": "python3"
  },
  "language_info": {
   "codemirror_mode": {
    "name": "ipython",
    "version": 3
   },
   "file_extension": ".py",
   "mimetype": "text/x-python",
   "name": "python",
   "nbconvert_exporter": "python",
   "pygments_lexer": "ipython3",
   "version": "3.10.6"
  }
 },
 "nbformat": 4,
 "nbformat_minor": 5
}
