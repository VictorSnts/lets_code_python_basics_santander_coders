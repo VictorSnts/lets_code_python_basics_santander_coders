{
 "cells": [
  {
   "cell_type": "code",
   "execution_count": 19,
   "id": "1709a109",
   "metadata": {},
   "outputs": [],
   "source": [
    "# Operadores Aritimeticos"
   ]
  },
  {
   "cell_type": "code",
   "execution_count": 20,
   "id": "44b21712",
   "metadata": {},
   "outputs": [],
   "source": [
    "x = 20\n",
    "y = 2"
   ]
  },
  {
   "cell_type": "code",
   "execution_count": 21,
   "id": "ef1ec947",
   "metadata": {},
   "outputs": [],
   "source": [
    "soma = x + y\n",
    "subtracao = x - y\n",
    "multplicacao = x * y\n",
    "divisao = x / y"
   ]
  },
  {
   "cell_type": "code",
   "execution_count": 22,
   "id": "be1dc17e",
   "metadata": {},
   "outputs": [
    {
     "name": "stdout",
     "output_type": "stream",
     "text": [
      "22\n",
      "18\n",
      "40\n",
      "10.0\n"
     ]
    }
   ],
   "source": [
    "print(soma)\n",
    "print(subtracao)\n",
    "print(multplicacao)\n",
    "print(divisao)"
   ]
  },
  {
   "cell_type": "code",
   "execution_count": 23,
   "id": "022ac08c",
   "metadata": {},
   "outputs": [],
   "source": [
    "exponenciacao = x ** y\n",
    "divisao_inteira = x // y\n",
    "resto_da_divisao = x % y"
   ]
  },
  {
   "cell_type": "code",
   "execution_count": 24,
   "id": "ad62ca53",
   "metadata": {},
   "outputs": [
    {
     "name": "stdout",
     "output_type": "stream",
     "text": [
      "400\n",
      "10\n",
      "0\n"
     ]
    }
   ],
   "source": [
    "print(exponenciacao)\n",
    "print(divisao_inteira)\n",
    "print(resto_da_divisao)"
   ]
  },
  {
   "cell_type": "code",
   "execution_count": 25,
   "id": "54919a89",
   "metadata": {},
   "outputs": [],
   "source": [
    "# Operadores logicos"
   ]
  },
  {
   "cell_type": "code",
   "execution_count": 27,
   "id": "afc1d25e",
   "metadata": {},
   "outputs": [],
   "source": [
    "verdadeiro = True\n",
    "falso = False"
   ]
  },
  {
   "cell_type": "code",
   "execution_count": 28,
   "id": "bcc2b425",
   "metadata": {},
   "outputs": [
    {
     "name": "stdout",
     "output_type": "stream",
     "text": [
      "False\n",
      "True\n",
      "False\n"
     ]
    }
   ],
   "source": [
    "print(not verdadeiro)       # not - Inverte o valor da operacao\n",
    "print(verdadeiro or falso)  # or - Retorna True se alguma das operacoes for verdadeira\n",
    "print(verdadeiro and falso)  # and - Retorna True somente se todas as operacoes forem verdadeiras"
   ]
  },
  {
   "cell_type": "code",
   "execution_count": 29,
   "id": "aab9611a",
   "metadata": {},
   "outputs": [],
   "source": [
    "# Operadoes Booleanos"
   ]
  },
  {
   "cell_type": "code",
   "execution_count": 30,
   "id": "64856437",
   "metadata": {},
   "outputs": [],
   "source": [
    "dolar = 5.3\n",
    "real = 1"
   ]
  },
  {
   "cell_type": "code",
   "execution_count": 33,
   "id": "28e53ee8",
   "metadata": {},
   "outputs": [
    {
     "name": "stdout",
     "output_type": "stream",
     "text": [
      "True\n",
      "True\n",
      "False\n",
      "True\n",
      "False\n",
      "False\n"
     ]
    }
   ],
   "source": [
    "print(dolar > real)    # > - Verifica se o valor A é maior que o valor B\n",
    "print(dolar >= real)   # > - Verifica se o valor A é maior ou igual o valor B\n",
    "print(dolar == real)   # == - Verifica se os valores sao iguais\n",
    "print(dolar != real)   # == - Verifica se os valores sao diferentes\n",
    "print(dolar < real)    # < - Verifica se o valor A é menor que o valor B\n",
    "print(dolar <= real)   # < - Verifica se o valor A é menor ou igual o valor B"
   ]
  }
 ],
 "metadata": {
  "kernelspec": {
   "display_name": "Python 3 (ipykernel)",
   "language": "python",
   "name": "python3"
  },
  "language_info": {
   "codemirror_mode": {
    "name": "ipython",
    "version": 3
   },
   "file_extension": ".py",
   "mimetype": "text/x-python",
   "name": "python",
   "nbconvert_exporter": "python",
   "pygments_lexer": "ipython3",
   "version": "3.10.6"
  }
 },
 "nbformat": 4,
 "nbformat_minor": 5
}
