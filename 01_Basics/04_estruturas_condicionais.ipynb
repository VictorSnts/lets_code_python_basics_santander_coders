{
 "cells": [
  {
   "cell_type": "code",
   "execution_count": 4,
   "id": "bf0504df",
   "metadata": {},
   "outputs": [
    {
     "name": "stdout",
     "output_type": "stream",
     "text": [
      "Informe o valor da corrida: R$16\n",
      "Vá de Uber\n"
     ]
    }
   ],
   "source": [
    "# Exemplo 1\n",
    "\n",
    "valor_passagem = 4.40\n",
    "\n",
    "valor_corrida = float(input(\"Informe o valor da corrida: R$\"))\n",
    "\n",
    "if valor_corrida <= (valor_passagem * 5):\n",
    "    print(\"Vá de Uber\")\n",
    "else:\n",
    "    print(\"vá de onibus\")"
   ]
  },
  {
   "cell_type": "code",
   "execution_count": 8,
   "id": "6327e862",
   "metadata": {},
   "outputs": [
    {
     "name": "stdout",
     "output_type": "stream",
     "text": [
      "Informe o valor da corrida: R$24\n",
      "Aguarde um pouco e tente novamente\n"
     ]
    }
   ],
   "source": [
    "# Exemplo 2\n",
    "\n",
    "valor_passagem = 4.40\n",
    "\n",
    "valor_corrida = float(input(\"Informe o valor da corrida: R$\"))\n",
    "\n",
    "if valor_corrida <= (valor_passagem * 5):\n",
    "    print(\"Vá de Uber\")\n",
    "elif valor_corrida <= (valor_passagem * 6):\n",
    "    print(\"Aguarde um pouco e tente novamente, o valor da corrida pode abaixar\")\n",
    "else:\n",
    "    print(\"vá de onibus\")"
   ]
  },
  {
   "cell_type": "code",
   "execution_count": null,
   "id": "f8714a68",
   "metadata": {},
   "outputs": [],
   "source": []
  },
  {
   "cell_type": "code",
   "execution_count": null,
   "id": "6147b59d",
   "metadata": {},
   "outputs": [],
   "source": []
  },
  {
   "cell_type": "code",
   "execution_count": null,
   "id": "05a00977",
   "metadata": {},
   "outputs": [],
   "source": []
  }
 ],
 "metadata": {
  "kernelspec": {
   "display_name": "Python 3 (ipykernel)",
   "language": "python",
   "name": "python3"
  },
  "language_info": {
   "codemirror_mode": {
    "name": "ipython",
    "version": 3
   },
   "file_extension": ".py",
   "mimetype": "text/x-python",
   "name": "python",
   "nbconvert_exporter": "python",
   "pygments_lexer": "ipython3",
   "version": "3.10.6"
  }
 },
 "nbformat": 4,
 "nbformat_minor": 5
}
